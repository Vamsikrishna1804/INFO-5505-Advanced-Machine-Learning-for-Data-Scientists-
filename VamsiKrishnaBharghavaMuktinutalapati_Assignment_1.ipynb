{
  "nbformat": 4,
  "nbformat_minor": 0,
  "metadata": {
    "colab": {
      "name": "VamsiKrishnaBharghavaMuktinutalapati_Assignment_1.ipynb",
      "provenance": [],
      "collapsed_sections": []
    },
    "kernelspec": {
      "name": "python3",
      "display_name": "Python 3"
    },
    "language_info": {
      "name": "python"
    }
  },
  "cells": [
    {
      "cell_type": "markdown",
      "source": [
        "Importing Required packages"
      ],
      "metadata": {
        "id": "UC6qv_oNygx-"
      }
    },
    {
      "cell_type": "code",
      "execution_count": 64,
      "metadata": {
        "id": "1FN_8l2rdEkO"
      },
      "outputs": [],
      "source": [
        "import pandas as pd\n",
        "import numpy as np\n",
        "import matplotlib.pyplot as plt\n",
        "import seaborn as sns\n"
      ]
    },
    {
      "cell_type": "markdown",
      "source": [
        "Fetching the data into dataframe from the given csv file."
      ],
      "metadata": {
        "id": "GNXE-QOIyfeW"
      }
    },
    {
      "cell_type": "code",
      "source": [
        "df=pd.read_csv('monet.csv')\n",
        "df"
      ],
      "metadata": {
        "colab": {
          "base_uri": "https://localhost:8080/",
          "height": 424
        },
        "id": "HpngtffZyXsx",
        "outputId": "767af54f-53a2-4d3f-da1b-b749d56315f3"
      },
      "execution_count": 65,
      "outputs": [
        {
          "output_type": "execute_result",
          "data": {
            "text/html": [
              "\n",
              "  <div id=\"df-81ab2050-2850-430c-bbdc-06dba30fa42f\">\n",
              "    <div class=\"colab-df-container\">\n",
              "      <div>\n",
              "<style scoped>\n",
              "    .dataframe tbody tr th:only-of-type {\n",
              "        vertical-align: middle;\n",
              "    }\n",
              "\n",
              "    .dataframe tbody tr th {\n",
              "        vertical-align: top;\n",
              "    }\n",
              "\n",
              "    .dataframe thead th {\n",
              "        text-align: right;\n",
              "    }\n",
              "</style>\n",
              "<table border=\"1\" class=\"dataframe\">\n",
              "  <thead>\n",
              "    <tr style=\"text-align: right;\">\n",
              "      <th></th>\n",
              "      <th>PRICE</th>\n",
              "      <th>HEIGHT</th>\n",
              "      <th>WIDTH</th>\n",
              "      <th>SIGNED</th>\n",
              "      <th>PICTURE</th>\n",
              "      <th>HOUSE</th>\n",
              "    </tr>\n",
              "  </thead>\n",
              "  <tbody>\n",
              "    <tr>\n",
              "      <th>0</th>\n",
              "      <td>3.993780</td>\n",
              "      <td>21.3</td>\n",
              "      <td>25.6</td>\n",
              "      <td>1</td>\n",
              "      <td>1</td>\n",
              "      <td>1</td>\n",
              "    </tr>\n",
              "    <tr>\n",
              "      <th>1</th>\n",
              "      <td>8.800000</td>\n",
              "      <td>31.9</td>\n",
              "      <td>25.6</td>\n",
              "      <td>1</td>\n",
              "      <td>2</td>\n",
              "      <td>2</td>\n",
              "    </tr>\n",
              "    <tr>\n",
              "      <th>2</th>\n",
              "      <td>0.131694</td>\n",
              "      <td>6.9</td>\n",
              "      <td>15.9</td>\n",
              "      <td>0</td>\n",
              "      <td>3</td>\n",
              "      <td>3</td>\n",
              "    </tr>\n",
              "    <tr>\n",
              "      <th>3</th>\n",
              "      <td>2.037500</td>\n",
              "      <td>25.7</td>\n",
              "      <td>32.0</td>\n",
              "      <td>1</td>\n",
              "      <td>4</td>\n",
              "      <td>2</td>\n",
              "    </tr>\n",
              "    <tr>\n",
              "      <th>4</th>\n",
              "      <td>1.487500</td>\n",
              "      <td>25.7</td>\n",
              "      <td>32.0</td>\n",
              "      <td>1</td>\n",
              "      <td>4</td>\n",
              "      <td>2</td>\n",
              "    </tr>\n",
              "    <tr>\n",
              "      <th>...</th>\n",
              "      <td>...</td>\n",
              "      <td>...</td>\n",
              "      <td>...</td>\n",
              "      <td>...</td>\n",
              "      <td>...</td>\n",
              "      <td>...</td>\n",
              "    </tr>\n",
              "    <tr>\n",
              "      <th>425</th>\n",
              "      <td>5.282500</td>\n",
              "      <td>25.6</td>\n",
              "      <td>39.4</td>\n",
              "      <td>1</td>\n",
              "      <td>375</td>\n",
              "      <td>1</td>\n",
              "    </tr>\n",
              "    <tr>\n",
              "      <th>426</th>\n",
              "      <td>9.352500</td>\n",
              "      <td>25.9</td>\n",
              "      <td>39.6</td>\n",
              "      <td>1</td>\n",
              "      <td>375</td>\n",
              "      <td>2</td>\n",
              "    </tr>\n",
              "    <tr>\n",
              "      <th>427</th>\n",
              "      <td>8.252500</td>\n",
              "      <td>25.6</td>\n",
              "      <td>39.6</td>\n",
              "      <td>1</td>\n",
              "      <td>375</td>\n",
              "      <td>1</td>\n",
              "    </tr>\n",
              "    <tr>\n",
              "      <th>428</th>\n",
              "      <td>3.410000</td>\n",
              "      <td>25.6</td>\n",
              "      <td>39.4</td>\n",
              "      <td>1</td>\n",
              "      <td>386</td>\n",
              "      <td>2</td>\n",
              "    </tr>\n",
              "    <tr>\n",
              "      <th>429</th>\n",
              "      <td>1.542500</td>\n",
              "      <td>25.7</td>\n",
              "      <td>32.0</td>\n",
              "      <td>1</td>\n",
              "      <td>387</td>\n",
              "      <td>1</td>\n",
              "    </tr>\n",
              "  </tbody>\n",
              "</table>\n",
              "<p>430 rows × 6 columns</p>\n",
              "</div>\n",
              "      <button class=\"colab-df-convert\" onclick=\"convertToInteractive('df-81ab2050-2850-430c-bbdc-06dba30fa42f')\"\n",
              "              title=\"Convert this dataframe to an interactive table.\"\n",
              "              style=\"display:none;\">\n",
              "        \n",
              "  <svg xmlns=\"http://www.w3.org/2000/svg\" height=\"24px\"viewBox=\"0 0 24 24\"\n",
              "       width=\"24px\">\n",
              "    <path d=\"M0 0h24v24H0V0z\" fill=\"none\"/>\n",
              "    <path d=\"M18.56 5.44l.94 2.06.94-2.06 2.06-.94-2.06-.94-.94-2.06-.94 2.06-2.06.94zm-11 1L8.5 8.5l.94-2.06 2.06-.94-2.06-.94L8.5 2.5l-.94 2.06-2.06.94zm10 10l.94 2.06.94-2.06 2.06-.94-2.06-.94-.94-2.06-.94 2.06-2.06.94z\"/><path d=\"M17.41 7.96l-1.37-1.37c-.4-.4-.92-.59-1.43-.59-.52 0-1.04.2-1.43.59L10.3 9.45l-7.72 7.72c-.78.78-.78 2.05 0 2.83L4 21.41c.39.39.9.59 1.41.59.51 0 1.02-.2 1.41-.59l7.78-7.78 2.81-2.81c.8-.78.8-2.07 0-2.86zM5.41 20L4 18.59l7.72-7.72 1.47 1.35L5.41 20z\"/>\n",
              "  </svg>\n",
              "      </button>\n",
              "      \n",
              "  <style>\n",
              "    .colab-df-container {\n",
              "      display:flex;\n",
              "      flex-wrap:wrap;\n",
              "      gap: 12px;\n",
              "    }\n",
              "\n",
              "    .colab-df-convert {\n",
              "      background-color: #E8F0FE;\n",
              "      border: none;\n",
              "      border-radius: 50%;\n",
              "      cursor: pointer;\n",
              "      display: none;\n",
              "      fill: #1967D2;\n",
              "      height: 32px;\n",
              "      padding: 0 0 0 0;\n",
              "      width: 32px;\n",
              "    }\n",
              "\n",
              "    .colab-df-convert:hover {\n",
              "      background-color: #E2EBFA;\n",
              "      box-shadow: 0px 1px 2px rgba(60, 64, 67, 0.3), 0px 1px 3px 1px rgba(60, 64, 67, 0.15);\n",
              "      fill: #174EA6;\n",
              "    }\n",
              "\n",
              "    [theme=dark] .colab-df-convert {\n",
              "      background-color: #3B4455;\n",
              "      fill: #D2E3FC;\n",
              "    }\n",
              "\n",
              "    [theme=dark] .colab-df-convert:hover {\n",
              "      background-color: #434B5C;\n",
              "      box-shadow: 0px 1px 3px 1px rgba(0, 0, 0, 0.15);\n",
              "      filter: drop-shadow(0px 1px 2px rgba(0, 0, 0, 0.3));\n",
              "      fill: #FFFFFF;\n",
              "    }\n",
              "  </style>\n",
              "\n",
              "      <script>\n",
              "        const buttonEl =\n",
              "          document.querySelector('#df-81ab2050-2850-430c-bbdc-06dba30fa42f button.colab-df-convert');\n",
              "        buttonEl.style.display =\n",
              "          google.colab.kernel.accessAllowed ? 'block' : 'none';\n",
              "\n",
              "        async function convertToInteractive(key) {\n",
              "          const element = document.querySelector('#df-81ab2050-2850-430c-bbdc-06dba30fa42f');\n",
              "          const dataTable =\n",
              "            await google.colab.kernel.invokeFunction('convertToInteractive',\n",
              "                                                     [key], {});\n",
              "          if (!dataTable) return;\n",
              "\n",
              "          const docLinkHtml = 'Like what you see? Visit the ' +\n",
              "            '<a target=\"_blank\" href=https://colab.research.google.com/notebooks/data_table.ipynb>data table notebook</a>'\n",
              "            + ' to learn more about interactive tables.';\n",
              "          element.innerHTML = '';\n",
              "          dataTable['output_type'] = 'display_data';\n",
              "          await google.colab.output.renderOutput(dataTable, element);\n",
              "          const docLink = document.createElement('div');\n",
              "          docLink.innerHTML = docLinkHtml;\n",
              "          element.appendChild(docLink);\n",
              "        }\n",
              "      </script>\n",
              "    </div>\n",
              "  </div>\n",
              "  "
            ],
            "text/plain": [
              "        PRICE  HEIGHT  WIDTH  SIGNED  PICTURE  HOUSE \n",
              "0    3.993780    21.3   25.6       1        1       1\n",
              "1    8.800000    31.9   25.6       1        2       2\n",
              "2    0.131694     6.9   15.9       0        3       3\n",
              "3    2.037500    25.7   32.0       1        4       2\n",
              "4    1.487500    25.7   32.0       1        4       2\n",
              "..        ...     ...    ...     ...      ...     ...\n",
              "425  5.282500    25.6   39.4       1      375       1\n",
              "426  9.352500    25.9   39.6       1      375       2\n",
              "427  8.252500    25.6   39.6       1      375       1\n",
              "428  3.410000    25.6   39.4       1      386       2\n",
              "429  1.542500    25.7   32.0       1      387       1\n",
              "\n",
              "[430 rows x 6 columns]"
            ]
          },
          "metadata": {},
          "execution_count": 65
        }
      ]
    },
    {
      "cell_type": "markdown",
      "source": [
        "Exploratory Data Analysis of a given dataset"
      ],
      "metadata": {
        "id": "Zq-892I1y31t"
      }
    },
    {
      "cell_type": "markdown",
      "source": [
        "Finding the count of Null values in all fields "
      ],
      "metadata": {
        "id": "sd3_go1uzT-H"
      }
    },
    {
      "cell_type": "code",
      "source": [
        "df.isnull().sum()\n",
        "\n"
      ],
      "metadata": {
        "colab": {
          "base_uri": "https://localhost:8080/"
        },
        "id": "X8tkw_3uyz0F",
        "outputId": "f7bb2457-bb6d-4d77-e8b6-558b7fe06fa0"
      },
      "execution_count": 66,
      "outputs": [
        {
          "output_type": "execute_result",
          "data": {
            "text/plain": [
              "PRICE      0\n",
              "HEIGHT     0\n",
              "WIDTH      0\n",
              "SIGNED     0\n",
              "PICTURE    0\n",
              "HOUSE      0\n",
              "dtype: int64"
            ]
          },
          "metadata": {},
          "execution_count": 66
        }
      ]
    },
    {
      "cell_type": "markdown",
      "source": [
        "As there are no Null values in the dataset, there is no necessity of imputing values."
      ],
      "metadata": {
        "id": "KPrAetoDzhKD"
      }
    },
    {
      "cell_type": "markdown",
      "source": [
        "Descriptive Statistics of Dataset"
      ],
      "metadata": {
        "id": "v3lLa2pBzr7a"
      }
    },
    {
      "cell_type": "code",
      "source": [
        "df.describe()"
      ],
      "metadata": {
        "colab": {
          "base_uri": "https://localhost:8080/",
          "height": 300
        },
        "id": "zkr_PeXWzdYm",
        "outputId": "a601d12d-ed85-4961-91d4-e059d021eac6"
      },
      "execution_count": 67,
      "outputs": [
        {
          "output_type": "execute_result",
          "data": {
            "text/html": [
              "\n",
              "  <div id=\"df-ef6e2cb8-1b1b-4c9a-aa17-e928fc195d81\">\n",
              "    <div class=\"colab-df-container\">\n",
              "      <div>\n",
              "<style scoped>\n",
              "    .dataframe tbody tr th:only-of-type {\n",
              "        vertical-align: middle;\n",
              "    }\n",
              "\n",
              "    .dataframe tbody tr th {\n",
              "        vertical-align: top;\n",
              "    }\n",
              "\n",
              "    .dataframe thead th {\n",
              "        text-align: right;\n",
              "    }\n",
              "</style>\n",
              "<table border=\"1\" class=\"dataframe\">\n",
              "  <thead>\n",
              "    <tr style=\"text-align: right;\">\n",
              "      <th></th>\n",
              "      <th>PRICE</th>\n",
              "      <th>HEIGHT</th>\n",
              "      <th>WIDTH</th>\n",
              "      <th>SIGNED</th>\n",
              "      <th>PICTURE</th>\n",
              "      <th>HOUSE</th>\n",
              "    </tr>\n",
              "  </thead>\n",
              "  <tbody>\n",
              "    <tr>\n",
              "      <th>count</th>\n",
              "      <td>430.000000</td>\n",
              "      <td>430.000000</td>\n",
              "      <td>430.000000</td>\n",
              "      <td>430.000000</td>\n",
              "      <td>430.000000</td>\n",
              "      <td>430.000000</td>\n",
              "    </tr>\n",
              "    <tr>\n",
              "      <th>mean</th>\n",
              "      <td>3.089996</td>\n",
              "      <td>27.646977</td>\n",
              "      <td>32.111395</td>\n",
              "      <td>0.820930</td>\n",
              "      <td>182.644186</td>\n",
              "      <td>1.611628</td>\n",
              "    </tr>\n",
              "    <tr>\n",
              "      <th>std</th>\n",
              "      <td>4.311260</td>\n",
              "      <td>10.097013</td>\n",
              "      <td>10.459677</td>\n",
              "      <td>0.383857</td>\n",
              "      <td>109.091529</td>\n",
              "      <td>0.591592</td>\n",
              "    </tr>\n",
              "    <tr>\n",
              "      <th>min</th>\n",
              "      <td>0.010413</td>\n",
              "      <td>3.900000</td>\n",
              "      <td>6.700000</td>\n",
              "      <td>0.000000</td>\n",
              "      <td>1.000000</td>\n",
              "      <td>1.000000</td>\n",
              "    </tr>\n",
              "    <tr>\n",
              "      <th>25%</th>\n",
              "      <td>0.600153</td>\n",
              "      <td>23.125000</td>\n",
              "      <td>28.525000</td>\n",
              "      <td>1.000000</td>\n",
              "      <td>87.250000</td>\n",
              "      <td>1.000000</td>\n",
              "    </tr>\n",
              "    <tr>\n",
              "      <th>50%</th>\n",
              "      <td>1.312782</td>\n",
              "      <td>25.600000</td>\n",
              "      <td>31.900000</td>\n",
              "      <td>1.000000</td>\n",
              "      <td>179.500000</td>\n",
              "      <td>2.000000</td>\n",
              "    </tr>\n",
              "    <tr>\n",
              "      <th>75%</th>\n",
              "      <td>3.850000</td>\n",
              "      <td>31.450000</td>\n",
              "      <td>36.200000</td>\n",
              "      <td>1.000000</td>\n",
              "      <td>274.750000</td>\n",
              "      <td>2.000000</td>\n",
              "    </tr>\n",
              "    <tr>\n",
              "      <th>max</th>\n",
              "      <td>33.013504</td>\n",
              "      <td>78.700000</td>\n",
              "      <td>89.000000</td>\n",
              "      <td>1.000000</td>\n",
              "      <td>387.000000</td>\n",
              "      <td>3.000000</td>\n",
              "    </tr>\n",
              "  </tbody>\n",
              "</table>\n",
              "</div>\n",
              "      <button class=\"colab-df-convert\" onclick=\"convertToInteractive('df-ef6e2cb8-1b1b-4c9a-aa17-e928fc195d81')\"\n",
              "              title=\"Convert this dataframe to an interactive table.\"\n",
              "              style=\"display:none;\">\n",
              "        \n",
              "  <svg xmlns=\"http://www.w3.org/2000/svg\" height=\"24px\"viewBox=\"0 0 24 24\"\n",
              "       width=\"24px\">\n",
              "    <path d=\"M0 0h24v24H0V0z\" fill=\"none\"/>\n",
              "    <path d=\"M18.56 5.44l.94 2.06.94-2.06 2.06-.94-2.06-.94-.94-2.06-.94 2.06-2.06.94zm-11 1L8.5 8.5l.94-2.06 2.06-.94-2.06-.94L8.5 2.5l-.94 2.06-2.06.94zm10 10l.94 2.06.94-2.06 2.06-.94-2.06-.94-.94-2.06-.94 2.06-2.06.94z\"/><path d=\"M17.41 7.96l-1.37-1.37c-.4-.4-.92-.59-1.43-.59-.52 0-1.04.2-1.43.59L10.3 9.45l-7.72 7.72c-.78.78-.78 2.05 0 2.83L4 21.41c.39.39.9.59 1.41.59.51 0 1.02-.2 1.41-.59l7.78-7.78 2.81-2.81c.8-.78.8-2.07 0-2.86zM5.41 20L4 18.59l7.72-7.72 1.47 1.35L5.41 20z\"/>\n",
              "  </svg>\n",
              "      </button>\n",
              "      \n",
              "  <style>\n",
              "    .colab-df-container {\n",
              "      display:flex;\n",
              "      flex-wrap:wrap;\n",
              "      gap: 12px;\n",
              "    }\n",
              "\n",
              "    .colab-df-convert {\n",
              "      background-color: #E8F0FE;\n",
              "      border: none;\n",
              "      border-radius: 50%;\n",
              "      cursor: pointer;\n",
              "      display: none;\n",
              "      fill: #1967D2;\n",
              "      height: 32px;\n",
              "      padding: 0 0 0 0;\n",
              "      width: 32px;\n",
              "    }\n",
              "\n",
              "    .colab-df-convert:hover {\n",
              "      background-color: #E2EBFA;\n",
              "      box-shadow: 0px 1px 2px rgba(60, 64, 67, 0.3), 0px 1px 3px 1px rgba(60, 64, 67, 0.15);\n",
              "      fill: #174EA6;\n",
              "    }\n",
              "\n",
              "    [theme=dark] .colab-df-convert {\n",
              "      background-color: #3B4455;\n",
              "      fill: #D2E3FC;\n",
              "    }\n",
              "\n",
              "    [theme=dark] .colab-df-convert:hover {\n",
              "      background-color: #434B5C;\n",
              "      box-shadow: 0px 1px 3px 1px rgba(0, 0, 0, 0.15);\n",
              "      filter: drop-shadow(0px 1px 2px rgba(0, 0, 0, 0.3));\n",
              "      fill: #FFFFFF;\n",
              "    }\n",
              "  </style>\n",
              "\n",
              "      <script>\n",
              "        const buttonEl =\n",
              "          document.querySelector('#df-ef6e2cb8-1b1b-4c9a-aa17-e928fc195d81 button.colab-df-convert');\n",
              "        buttonEl.style.display =\n",
              "          google.colab.kernel.accessAllowed ? 'block' : 'none';\n",
              "\n",
              "        async function convertToInteractive(key) {\n",
              "          const element = document.querySelector('#df-ef6e2cb8-1b1b-4c9a-aa17-e928fc195d81');\n",
              "          const dataTable =\n",
              "            await google.colab.kernel.invokeFunction('convertToInteractive',\n",
              "                                                     [key], {});\n",
              "          if (!dataTable) return;\n",
              "\n",
              "          const docLinkHtml = 'Like what you see? Visit the ' +\n",
              "            '<a target=\"_blank\" href=https://colab.research.google.com/notebooks/data_table.ipynb>data table notebook</a>'\n",
              "            + ' to learn more about interactive tables.';\n",
              "          element.innerHTML = '';\n",
              "          dataTable['output_type'] = 'display_data';\n",
              "          await google.colab.output.renderOutput(dataTable, element);\n",
              "          const docLink = document.createElement('div');\n",
              "          docLink.innerHTML = docLinkHtml;\n",
              "          element.appendChild(docLink);\n",
              "        }\n",
              "      </script>\n",
              "    </div>\n",
              "  </div>\n",
              "  "
            ],
            "text/plain": [
              "            PRICE      HEIGHT       WIDTH      SIGNED     PICTURE      HOUSE \n",
              "count  430.000000  430.000000  430.000000  430.000000  430.000000  430.000000\n",
              "mean     3.089996   27.646977   32.111395    0.820930  182.644186    1.611628\n",
              "std      4.311260   10.097013   10.459677    0.383857  109.091529    0.591592\n",
              "min      0.010413    3.900000    6.700000    0.000000    1.000000    1.000000\n",
              "25%      0.600153   23.125000   28.525000    1.000000   87.250000    1.000000\n",
              "50%      1.312782   25.600000   31.900000    1.000000  179.500000    2.000000\n",
              "75%      3.850000   31.450000   36.200000    1.000000  274.750000    2.000000\n",
              "max     33.013504   78.700000   89.000000    1.000000  387.000000    3.000000"
            ]
          },
          "metadata": {},
          "execution_count": 67
        }
      ]
    },
    {
      "cell_type": "code",
      "source": [
        "df.info()"
      ],
      "metadata": {
        "colab": {
          "base_uri": "https://localhost:8080/"
        },
        "id": "iNQUsQZNEfqV",
        "outputId": "c2034563-bd32-417d-edf7-84b910264710"
      },
      "execution_count": 68,
      "outputs": [
        {
          "output_type": "stream",
          "name": "stdout",
          "text": [
            "<class 'pandas.core.frame.DataFrame'>\n",
            "RangeIndex: 430 entries, 0 to 429\n",
            "Data columns (total 6 columns):\n",
            " #   Column   Non-Null Count  Dtype  \n",
            "---  ------   --------------  -----  \n",
            " 0   PRICE    430 non-null    float64\n",
            " 1   HEIGHT   430 non-null    float64\n",
            " 2   WIDTH    430 non-null    float64\n",
            " 3   SIGNED   430 non-null    int64  \n",
            " 4   PICTURE  430 non-null    int64  \n",
            " 5   HOUSE    430 non-null    int64  \n",
            "dtypes: float64(3), int64(3)\n",
            "memory usage: 20.3 KB\n"
          ]
        }
      ]
    },
    {
      "cell_type": "markdown",
      "source": [
        "Plotting histograms of each field to know it's distribution"
      ],
      "metadata": {
        "id": "n521xfujz2q1"
      }
    },
    {
      "cell_type": "code",
      "source": [
        "fields_distribution=df.hist(figsize=(12,8),color='Orange')"
      ],
      "metadata": {
        "colab": {
          "base_uri": "https://localhost:8080/",
          "height": 498
        },
        "id": "dtLKbqOdz84V",
        "outputId": "b9be90ae-c913-4694-af30-87501bc0b02b"
      },
      "execution_count": 69,
      "outputs": [
        {
          "output_type": "display_data",
          "data": {
            "image/png": "[encoded data removed]",
            "text/plain": [
              "<Figure size 864x576 with 6 Axes>"
            ]
          },
          "metadata": {
            "needs_background": "light"
          }
        }
      ]
    },
    {
      "cell_type": "code",
      "source": [
        "\n",
        "sns.displot(data=df['PRICE'],kde=True,height=10,aspect=3,color='Orange')"
      ],
      "metadata": {
        "colab": {
          "base_uri": "https://localhost:8080/",
          "height": 497
        },
        "id": "e_Iek7NndX33",
        "outputId": "4c5ed4b4-d2dd-4e32-bf05-8d1316794f45"
      },
      "execution_count": 70,
      "outputs": [
        {
          "output_type": "execute_result",
          "data": {
            "text/plain": [
              "<seaborn.axisgrid.FacetGrid at 0x7f846a37c390>"
            ]
          },
          "metadata": {},
          "execution_count": 70
        },
        {
          "output_type": "display_data",
          "data": {
            "image/png": "[encoded data removed]",
            "text/plain": [
              "<Figure size 2160x720 with 1 Axes>"
            ]
          },
          "metadata": {
            "needs_background": "light"
          }
        }
      ]
    },
    {
      "cell_type": "markdown",
      "source": [
        "By looking into the distribution of dependent Variable Price, we can conclude that the most of the curve falls in between 15 bins and rest of them are considered as outliers."
      ],
      "metadata": {
        "id": "TkPhGPjkiQMM"
      }
    },
    {
      "cell_type": "markdown",
      "source": [
        "Creation of New Field **Size** for modeling\n",
        "\n",
        "\n"
      ],
      "metadata": {
        "id": "wkU4Hj2ZinfT"
      }
    },
    {
      "cell_type": "code",
      "source": [
        "df['Size']=df['WIDTH']*df['HEIGHT']\n",
        "df.head()"
      ],
      "metadata": {
        "colab": {
          "base_uri": "https://localhost:8080/",
          "height": 206
        },
        "id": "2UhPwN8BjQxc",
        "outputId": "34a20c1a-160f-43c0-cebd-64786c833ee8"
      },
      "execution_count": 71,
      "outputs": [
        {
          "output_type": "execute_result",
          "data": {
            "text/html": [
              "\n",
              "  <div id=\"df-d4400e3a-711c-4042-bc1c-40a75972c340\">\n",
              "    <div class=\"colab-df-container\">\n",
              "      <div>\n",
              "<style scoped>\n",
              "    .dataframe tbody tr th:only-of-type {\n",
              "        vertical-align: middle;\n",
              "    }\n",
              "\n",
              "    .dataframe tbody tr th {\n",
              "        vertical-align: top;\n",
              "    }\n",
              "\n",
              "    .dataframe thead th {\n",
              "        text-align: right;\n",
              "    }\n",
              "</style>\n",
              "<table border=\"1\" class=\"dataframe\">\n",
              "  <thead>\n",
              "    <tr style=\"text-align: right;\">\n",
              "      <th></th>\n",
              "      <th>PRICE</th>\n",
              "      <th>HEIGHT</th>\n",
              "      <th>WIDTH</th>\n",
              "      <th>SIGNED</th>\n",
              "      <th>PICTURE</th>\n",
              "      <th>HOUSE</th>\n",
              "      <th>Size</th>\n",
              "    </tr>\n",
              "  </thead>\n",
              "  <tbody>\n",
              "    <tr>\n",
              "      <th>0</th>\n",
              "      <td>3.993780</td>\n",
              "      <td>21.3</td>\n",
              "      <td>25.6</td>\n",
              "      <td>1</td>\n",
              "      <td>1</td>\n",
              "      <td>1</td>\n",
              "      <td>545.28</td>\n",
              "    </tr>\n",
              "    <tr>\n",
              "      <th>1</th>\n",
              "      <td>8.800000</td>\n",
              "      <td>31.9</td>\n",
              "      <td>25.6</td>\n",
              "      <td>1</td>\n",
              "      <td>2</td>\n",
              "      <td>2</td>\n",
              "      <td>816.64</td>\n",
              "    </tr>\n",
              "    <tr>\n",
              "      <th>2</th>\n",
              "      <td>0.131694</td>\n",
              "      <td>6.9</td>\n",
              "      <td>15.9</td>\n",
              "      <td>0</td>\n",
              "      <td>3</td>\n",
              "      <td>3</td>\n",
              "      <td>109.71</td>\n",
              "    </tr>\n",
              "    <tr>\n",
              "      <th>3</th>\n",
              "      <td>2.037500</td>\n",
              "      <td>25.7</td>\n",
              "      <td>32.0</td>\n",
              "      <td>1</td>\n",
              "      <td>4</td>\n",
              "      <td>2</td>\n",
              "      <td>822.40</td>\n",
              "    </tr>\n",
              "    <tr>\n",
              "      <th>4</th>\n",
              "      <td>1.487500</td>\n",
              "      <td>25.7</td>\n",
              "      <td>32.0</td>\n",
              "      <td>1</td>\n",
              "      <td>4</td>\n",
              "      <td>2</td>\n",
              "      <td>822.40</td>\n",
              "    </tr>\n",
              "  </tbody>\n",
              "</table>\n",
              "</div>\n",
              "      <button class=\"colab-df-convert\" onclick=\"convertToInteractive('df-d4400e3a-711c-4042-bc1c-40a75972c340')\"\n",
              "              title=\"Convert this dataframe to an interactive table.\"\n",
              "              style=\"display:none;\">\n",
              "        \n",
              "  <svg xmlns=\"http://www.w3.org/2000/svg\" height=\"24px\"viewBox=\"0 0 24 24\"\n",
              "       width=\"24px\">\n",
              "    <path d=\"M0 0h24v24H0V0z\" fill=\"none\"/>\n",
              "    <path d=\"M18.56 5.44l.94 2.06.94-2.06 2.06-.94-2.06-.94-.94-2.06-.94 2.06-2.06.94zm-11 1L8.5 8.5l.94-2.06 2.06-.94-2.06-.94L8.5 2.5l-.94 2.06-2.06.94zm10 10l.94 2.06.94-2.06 2.06-.94-2.06-.94-.94-2.06-.94 2.06-2.06.94z\"/><path d=\"M17.41 7.96l-1.37-1.37c-.4-.4-.92-.59-1.43-.59-.52 0-1.04.2-1.43.59L10.3 9.45l-7.72 7.72c-.78.78-.78 2.05 0 2.83L4 21.41c.39.39.9.59 1.41.59.51 0 1.02-.2 1.41-.59l7.78-7.78 2.81-2.81c.8-.78.8-2.07 0-2.86zM5.41 20L4 18.59l7.72-7.72 1.47 1.35L5.41 20z\"/>\n",
              "  </svg>\n",
              "      </button>\n",
              "      \n",
              "  <style>\n",
              "    .colab-df-container {\n",
              "      display:flex;\n",
              "      flex-wrap:wrap;\n",
              "      gap: 12px;\n",
              "    }\n",
              "\n",
              "    .colab-df-convert {\n",
              "      background-color: #E8F0FE;\n",
              "      border: none;\n",
              "      border-radius: 50%;\n",
              "      cursor: pointer;\n",
              "      display: none;\n",
              "      fill: #1967D2;\n",
              "      height: 32px;\n",
              "      padding: 0 0 0 0;\n",
              "      width: 32px;\n",
              "    }\n",
              "\n",
              "    .colab-df-convert:hover {\n",
              "      background-color: #E2EBFA;\n",
              "      box-shadow: 0px 1px 2px rgba(60, 64, 67, 0.3), 0px 1px 3px 1px rgba(60, 64, 67, 0.15);\n",
              "      fill: #174EA6;\n",
              "    }\n",
              "\n",
              "    [theme=dark] .colab-df-convert {\n",
              "      background-color: #3B4455;\n",
              "      fill: #D2E3FC;\n",
              "    }\n",
              "\n",
              "    [theme=dark] .colab-df-convert:hover {\n",
              "      background-color: #434B5C;\n",
              "      box-shadow: 0px 1px 3px 1px rgba(0, 0, 0, 0.15);\n",
              "      filter: drop-shadow(0px 1px 2px rgba(0, 0, 0, 0.3));\n",
              "      fill: #FFFFFF;\n",
              "    }\n",
              "  </style>\n",
              "\n",
              "      <script>\n",
              "        const buttonEl =\n",
              "          document.querySelector('#df-d4400e3a-711c-4042-bc1c-40a75972c340 button.colab-df-convert');\n",
              "        buttonEl.style.display =\n",
              "          google.colab.kernel.accessAllowed ? 'block' : 'none';\n",
              "\n",
              "        async function convertToInteractive(key) {\n",
              "          const element = document.querySelector('#df-d4400e3a-711c-4042-bc1c-40a75972c340');\n",
              "          const dataTable =\n",
              "            await google.colab.kernel.invokeFunction('convertToInteractive',\n",
              "                                                     [key], {});\n",
              "          if (!dataTable) return;\n",
              "\n",
              "          const docLinkHtml = 'Like what you see? Visit the ' +\n",
              "            '<a target=\"_blank\" href=https://colab.research.google.com/notebooks/data_table.ipynb>data table notebook</a>'\n",
              "            + ' to learn more about interactive tables.';\n",
              "          element.innerHTML = '';\n",
              "          dataTable['output_type'] = 'display_data';\n",
              "          await google.colab.output.renderOutput(dataTable, element);\n",
              "          const docLink = document.createElement('div');\n",
              "          docLink.innerHTML = docLinkHtml;\n",
              "          element.appendChild(docLink);\n",
              "        }\n",
              "      </script>\n",
              "    </div>\n",
              "  </div>\n",
              "  "
            ],
            "text/plain": [
              "      PRICE  HEIGHT  WIDTH  SIGNED  PICTURE  HOUSE     Size\n",
              "0  3.993780    21.3   25.6       1        1       1  545.28\n",
              "1  8.800000    31.9   25.6       1        2       2  816.64\n",
              "2  0.131694     6.9   15.9       0        3       3  109.71\n",
              "3  2.037500    25.7   32.0       1        4       2  822.40\n",
              "4  1.487500    25.7   32.0       1        4       2  822.40"
            ]
          },
          "metadata": {},
          "execution_count": 71
        }
      ]
    },
    {
      "cell_type": "code",
      "source": [
        "#Size field distribution\n",
        "size_distribution=df['Size'].hist(color='Orange')\n",
        "plt.show()"
      ],
      "metadata": {
        "colab": {
          "base_uri": "https://localhost:8080/",
          "height": 265
        },
        "id": "5XmpSK-ZIhKn",
        "outputId": "af375930-6a59-4cdb-e6b4-b5571b1a61b7"
      },
      "execution_count": 72,
      "outputs": [
        {
          "output_type": "display_data",
          "data": {
            "image/png": "[encoded data removed]",
            "text/plain": [
              "<Figure size 432x288 with 1 Axes>"
            ]
          },
          "metadata": {
            "needs_background": "light"
          }
        }
      ]
    },
    {
      "cell_type": "markdown",
      "source": [
        "**Selection of Independent Variables for Modeling:**\n",
        "\n",
        "We will plot the correlation graph to findout the correlation score between each independent variable to the dependent variable (**Price**)"
      ],
      "metadata": {
        "id": "lcn3ngjlvXAl"
      }
    },
    {
      "cell_type": "code",
      "source": [
        "#Correlation Scores\n",
        "monet_correlationscore=df.corr()\n",
        "monet_correlationscore"
      ],
      "metadata": {
        "colab": {
          "base_uri": "https://localhost:8080/",
          "height": 269
        },
        "id": "yWyWxH73vp6o",
        "outputId": "ffc4090a-c4d1-4cfb-fd9c-d9faab20fe11"
      },
      "execution_count": 73,
      "outputs": [
        {
          "output_type": "execute_result",
          "data": {
            "text/html": [
              "\n",
              "  <div id=\"df-ebb1ec24-1bce-4f0c-a3e5-78706cda1ef2\">\n",
              "    <div class=\"colab-df-container\">\n",
              "      <div>\n",
              "<style scoped>\n",
              "    .dataframe tbody tr th:only-of-type {\n",
              "        vertical-align: middle;\n",
              "    }\n",
              "\n",
              "    .dataframe tbody tr th {\n",
              "        vertical-align: top;\n",
              "    }\n",
              "\n",
              "    .dataframe thead th {\n",
              "        text-align: right;\n",
              "    }\n",
              "</style>\n",
              "<table border=\"1\" class=\"dataframe\">\n",
              "  <thead>\n",
              "    <tr style=\"text-align: right;\">\n",
              "      <th></th>\n",
              "      <th>PRICE</th>\n",
              "      <th>HEIGHT</th>\n",
              "      <th>WIDTH</th>\n",
              "      <th>SIGNED</th>\n",
              "      <th>PICTURE</th>\n",
              "      <th>HOUSE</th>\n",
              "      <th>Size</th>\n",
              "    </tr>\n",
              "  </thead>\n",
              "  <tbody>\n",
              "    <tr>\n",
              "      <th>PRICE</th>\n",
              "      <td>1.000000</td>\n",
              "      <td>0.314581</td>\n",
              "      <td>0.346881</td>\n",
              "      <td>0.136362</td>\n",
              "      <td>0.106078</td>\n",
              "      <td>-0.039878</td>\n",
              "      <td>0.347227</td>\n",
              "    </tr>\n",
              "    <tr>\n",
              "      <th>HEIGHT</th>\n",
              "      <td>0.314581</td>\n",
              "      <td>1.000000</td>\n",
              "      <td>0.503280</td>\n",
              "      <td>-0.145835</td>\n",
              "      <td>0.041556</td>\n",
              "      <td>-0.095278</td>\n",
              "      <td>0.810881</td>\n",
              "    </tr>\n",
              "    <tr>\n",
              "      <th>WIDTH</th>\n",
              "      <td>0.346881</td>\n",
              "      <td>0.503280</td>\n",
              "      <td>1.000000</td>\n",
              "      <td>-0.109218</td>\n",
              "      <td>0.046845</td>\n",
              "      <td>-0.169441</td>\n",
              "      <td>0.853942</td>\n",
              "    </tr>\n",
              "    <tr>\n",
              "      <th>SIGNED</th>\n",
              "      <td>0.136362</td>\n",
              "      <td>-0.145835</td>\n",
              "      <td>-0.109218</td>\n",
              "      <td>1.000000</td>\n",
              "      <td>0.009664</td>\n",
              "      <td>-0.132464</td>\n",
              "      <td>-0.198969</td>\n",
              "    </tr>\n",
              "    <tr>\n",
              "      <th>PICTURE</th>\n",
              "      <td>0.106078</td>\n",
              "      <td>0.041556</td>\n",
              "      <td>0.046845</td>\n",
              "      <td>0.009664</td>\n",
              "      <td>1.000000</td>\n",
              "      <td>-0.008359</td>\n",
              "      <td>0.090118</td>\n",
              "    </tr>\n",
              "    <tr>\n",
              "      <th>HOUSE</th>\n",
              "      <td>-0.039878</td>\n",
              "      <td>-0.095278</td>\n",
              "      <td>-0.169441</td>\n",
              "      <td>-0.132464</td>\n",
              "      <td>-0.008359</td>\n",
              "      <td>1.000000</td>\n",
              "      <td>-0.124385</td>\n",
              "    </tr>\n",
              "    <tr>\n",
              "      <th>Size</th>\n",
              "      <td>0.347227</td>\n",
              "      <td>0.810881</td>\n",
              "      <td>0.853942</td>\n",
              "      <td>-0.198969</td>\n",
              "      <td>0.090118</td>\n",
              "      <td>-0.124385</td>\n",
              "      <td>1.000000</td>\n",
              "    </tr>\n",
              "  </tbody>\n",
              "</table>\n",
              "</div>\n",
              "      <button class=\"colab-df-convert\" onclick=\"convertToInteractive('df-ebb1ec24-1bce-4f0c-a3e5-78706cda1ef2')\"\n",
              "              title=\"Convert this dataframe to an interactive table.\"\n",
              "              style=\"display:none;\">\n",
              "        \n",
              "  <svg xmlns=\"http://www.w3.org/2000/svg\" height=\"24px\"viewBox=\"0 0 24 24\"\n",
              "       width=\"24px\">\n",
              "    <path d=\"M0 0h24v24H0V0z\" fill=\"none\"/>\n",
              "    <path d=\"M18.56 5.44l.94 2.06.94-2.06 2.06-.94-2.06-.94-.94-2.06-.94 2.06-2.06.94zm-11 1L8.5 8.5l.94-2.06 2.06-.94-2.06-.94L8.5 2.5l-.94 2.06-2.06.94zm10 10l.94 2.06.94-2.06 2.06-.94-2.06-.94-.94-2.06-.94 2.06-2.06.94z\"/><path d=\"M17.41 7.96l-1.37-1.37c-.4-.4-.92-.59-1.43-.59-.52 0-1.04.2-1.43.59L10.3 9.45l-7.72 7.72c-.78.78-.78 2.05 0 2.83L4 21.41c.39.39.9.59 1.41.59.51 0 1.02-.2 1.41-.59l7.78-7.78 2.81-2.81c.8-.78.8-2.07 0-2.86zM5.41 20L4 18.59l7.72-7.72 1.47 1.35L5.41 20z\"/>\n",
              "  </svg>\n",
              "      </button>\n",
              "      \n",
              "  <style>\n",
              "    .colab-df-container {\n",
              "      display:flex;\n",
              "      flex-wrap:wrap;\n",
              "      gap: 12px;\n",
              "    }\n",
              "\n",
              "    .colab-df-convert {\n",
              "      background-color: #E8F0FE;\n",
              "      border: none;\n",
              "      border-radius: 50%;\n",
              "      cursor: pointer;\n",
              "      display: none;\n",
              "      fill: #1967D2;\n",
              "      height: 32px;\n",
              "      padding: 0 0 0 0;\n",
              "      width: 32px;\n",
              "    }\n",
              "\n",
              "    .colab-df-convert:hover {\n",
              "      background-color: #E2EBFA;\n",
              "      box-shadow: 0px 1px 2px rgba(60, 64, 67, 0.3), 0px 1px 3px 1px rgba(60, 64, 67, 0.15);\n",
              "      fill: #174EA6;\n",
              "    }\n",
              "\n",
              "    [theme=dark] .colab-df-convert {\n",
              "      background-color: #3B4455;\n",
              "      fill: #D2E3FC;\n",
              "    }\n",
              "\n",
              "    [theme=dark] .colab-df-convert:hover {\n",
              "      background-color: #434B5C;\n",
              "      box-shadow: 0px 1px 3px 1px rgba(0, 0, 0, 0.15);\n",
              "      filter: drop-shadow(0px 1px 2px rgba(0, 0, 0, 0.3));\n",
              "      fill: #FFFFFF;\n",
              "    }\n",
              "  </style>\n",
              "\n",
              "      <script>\n",
              "        const buttonEl =\n",
              "          document.querySelector('#df-ebb1ec24-1bce-4f0c-a3e5-78706cda1ef2 button.colab-df-convert');\n",
              "        buttonEl.style.display =\n",
              "          google.colab.kernel.accessAllowed ? 'block' : 'none';\n",
              "\n",
              "        async function convertToInteractive(key) {\n",
              "          const element = document.querySelector('#df-ebb1ec24-1bce-4f0c-a3e5-78706cda1ef2');\n",
              "          const dataTable =\n",
              "            await google.colab.kernel.invokeFunction('convertToInteractive',\n",
              "                                                     [key], {});\n",
              "          if (!dataTable) return;\n",
              "\n",
              "          const docLinkHtml = 'Like what you see? Visit the ' +\n",
              "            '<a target=\"_blank\" href=https://colab.research.google.com/notebooks/data_table.ipynb>data table notebook</a>'\n",
              "            + ' to learn more about interactive tables.';\n",
              "          element.innerHTML = '';\n",
              "          dataTable['output_type'] = 'display_data';\n",
              "          await google.colab.output.renderOutput(dataTable, element);\n",
              "          const docLink = document.createElement('div');\n",
              "          docLink.innerHTML = docLinkHtml;\n",
              "          element.appendChild(docLink);\n",
              "        }\n",
              "      </script>\n",
              "    </div>\n",
              "  </div>\n",
              "  "
            ],
            "text/plain": [
              "            PRICE    HEIGHT     WIDTH    SIGNED   PICTURE    HOUSE       Size\n",
              "PRICE    1.000000  0.314581  0.346881  0.136362  0.106078 -0.039878  0.347227\n",
              "HEIGHT   0.314581  1.000000  0.503280 -0.145835  0.041556 -0.095278  0.810881\n",
              "WIDTH    0.346881  0.503280  1.000000 -0.109218  0.046845 -0.169441  0.853942\n",
              "SIGNED   0.136362 -0.145835 -0.109218  1.000000  0.009664 -0.132464 -0.198969\n",
              "PICTURE  0.106078  0.041556  0.046845  0.009664  1.000000 -0.008359  0.090118\n",
              "HOUSE   -0.039878 -0.095278 -0.169441 -0.132464 -0.008359  1.000000 -0.124385\n",
              "Size     0.347227  0.810881  0.853942 -0.198969  0.090118 -0.124385  1.000000"
            ]
          },
          "metadata": {},
          "execution_count": 73
        }
      ]
    },
    {
      "cell_type": "code",
      "source": [
        "#Correlation Heat Map\n",
        "plt.subplots(figsize=(20,8))\n",
        "sns.heatmap(monet_correlationscore,annot=True,square=True,cmap='Blues')"
      ],
      "metadata": {
        "colab": {
          "base_uri": "https://localhost:8080/",
          "height": 504
        },
        "id": "-UFA_Uvgv3YJ",
        "outputId": "adb82732-69f8-49eb-f03f-88a18107d7c9"
      },
      "execution_count": 74,
      "outputs": [
        {
          "output_type": "execute_result",
          "data": {
            "text/plain": [
              "<matplotlib.axes._subplots.AxesSubplot at 0x7f846a1030d0>"
            ]
          },
          "metadata": {},
          "execution_count": 74
        },
        {
          "output_type": "display_data",
          "data": {
            "image/png": "[encoded data removed]",
            "text/plain": [
              "<Figure size 1440x576 with 2 Axes>"
            ]
          },
          "metadata": {
            "needs_background": "light"
          }
        }
      ]
    },
    {
      "cell_type": "markdown",
      "source": [
        "From the above correlation heat map, it is evident that Width and Size has same correlation score to the dependent variable Price. \n",
        "\n",
        "This score can be calculated between -1 to 1, which says value nearer to one is highly correlated whereas value nearer to -1 is Negatively correleated or least correlated and the value nearer to 0 is said to be Neutral.\n",
        "\n",
        "From this, we will consider **Size** and **Width** as Independent Variables in Modeling"
      ],
      "metadata": {
        "id": "WYPJgQVTxK0Z"
      }
    },
    {
      "cell_type": "code",
      "source": [
        "#Plot between Size and Price\n",
        "sns.lmplot(x= 'Size', y = 'PRICE', data = df,ci=90,height=8)"
      ],
      "metadata": {
        "colab": {
          "base_uri": "https://localhost:8080/",
          "height": 602
        },
        "id": "9WJxuqfo8gis",
        "outputId": "9cbe8840-1aa5-496f-b12f-84448c753086"
      },
      "execution_count": 75,
      "outputs": [
        {
          "output_type": "execute_result",
          "data": {
            "text/plain": [
              "<seaborn.axisgrid.FacetGrid at 0x7f846a186c90>"
            ]
          },
          "metadata": {},
          "execution_count": 75
        },
        {
          "output_type": "display_data",
          "data": {
            "image/png": "[encoded data removed]",
            "text/plain": [
              "<Figure size 576x576 with 1 Axes>"
            ]
          },
          "metadata": {
            "needs_background": "light"
          }
        }
      ]
    },
    {
      "cell_type": "code",
      "source": [
        "# Plot between WIDTH and PRICE\n",
        "sns.lmplot(x= 'WIDTH', y = 'PRICE', data = df,ci=90,height=8)"
      ],
      "metadata": {
        "colab": {
          "base_uri": "https://localhost:8080/",
          "height": 602
        },
        "id": "LxS6xxs9DGkh",
        "outputId": "92937e36-c648-49e1-b4e5-11c82c22e7fb"
      },
      "execution_count": 76,
      "outputs": [
        {
          "output_type": "execute_result",
          "data": {
            "text/plain": [
              "<seaborn.axisgrid.FacetGrid at 0x7f846a167350>"
            ]
          },
          "metadata": {},
          "execution_count": 76
        },
        {
          "output_type": "display_data",
          "data": {
            "image/png": "[encoded data removed]",
            "text/plain": [
              "<Figure size 576x576 with 1 Axes>"
            ]
          },
          "metadata": {
            "needs_background": "light"
          }
        }
      ]
    },
    {
      "cell_type": "markdown",
      "source": [
        "From the above graphs, it is clear that as the Size, width increases, price of the painting increases."
      ],
      "metadata": {
        "id": "JqQQ-a1LDO0p"
      }
    },
    {
      "cell_type": "markdown",
      "source": [
        "**Linear Regression Model**\n",
        "\n",
        "X: variables known as independent variables, predictors, features\n",
        "\n",
        "Y: variables known as dependent or target variable\n",
        "\n",
        "Y=mX+C is the equation used to calculate the Y (dependent Variable) value.\n",
        "m is the slope\n",
        "C is Y-intercept\n",
        "X is an Independent Variable."
      ],
      "metadata": {
        "id": "Yd3mCIgfDcaC"
      }
    },
    {
      "cell_type": "markdown",
      "source": [
        "**Model 1**\n",
        "\n",
        "**Univariate Linear Regression Model**\n",
        "\n",
        "Univariate Linear Regression or Simple Linear Regression models get only one input variable as its single predictor. \n",
        "\n",
        "Predictor/Indepedent variable (X): SIZE\n",
        "\n",
        "Dependent variable (Y): PRICE"
      ],
      "metadata": {
        "id": "gpB2vfBQEPL_"
      }
    },
    {
      "cell_type": "markdown",
      "source": [
        "Using Scipy package, we are splitting the given dataset into 80% as training dataset and 20% as testing dataset."
      ],
      "metadata": {
        "id": "P7oczvDMExA9"
      }
    },
    {
      "cell_type": "code",
      "source": [
        "# Split dataset for training (80%) and testing (20%)\n",
        "from sklearn.model_selection import train_test_split\n",
        "X_train, X_test, y_train, y_test = train_test_split(df[['Size']], df['PRICE'], train_size = 0.8,random_state=10)\n",
        "\n",
        "print ('Shapes of X_train, y_train: ', X_train.shape, y_train.shape)\n",
        "print ('Shapes of X_test, y_test: ', X_test.shape, y_test.shape)"
      ],
      "metadata": {
        "colab": {
          "base_uri": "https://localhost:8080/"
        },
        "id": "32VDVqlFDLmh",
        "outputId": "70e70e48-d1b8-4a4f-97e0-c115269be862"
      },
      "execution_count": 104,
      "outputs": [
        {
          "output_type": "stream",
          "name": "stdout",
          "text": [
            "Shapes of X_train, y_train:  (344, 1) (344,)\n",
            "Shapes of X_test, y_test:  (86, 1) (86,)\n"
          ]
        }
      ]
    },
    {
      "cell_type": "code",
      "source": [
        "# Building a Linear Regression model\n",
        "from sklearn.linear_model import LinearRegression\n",
        "regression_model  = LinearRegression()\n",
        "\n",
        "# Fit the model into the training data\n",
        "regression_model .fit (X_train, y_train)"
      ],
      "metadata": {
        "colab": {
          "base_uri": "https://localhost:8080/"
        },
        "id": "kaY4zGeBFUD2",
        "outputId": "568f0348-0ce3-442a-f8af-90c5cd71ed19"
      },
      "execution_count": 105,
      "outputs": [
        {
          "output_type": "execute_result",
          "data": {
            "text/plain": [
              "LinearRegression()"
            ]
          },
          "metadata": {},
          "execution_count": 105
        }
      ]
    },
    {
      "cell_type": "code",
      "source": [
        "# Apply the model to predict y in the test set\n",
        "y_test_pred = regression_model.predict (X_test) \n",
        "\n",
        "# Apply the model to predict y in the train set\n",
        "y_train_pred = regression_model.predict(X_train)"
      ],
      "metadata": {
        "id": "9A3TqrPlIclr"
      },
      "execution_count": 106,
      "outputs": []
    },
    {
      "cell_type": "code",
      "source": [
        "# Print coefficient and intercept of the model\n",
        "print ('Intercept of the model : ', regression_model.intercept_)\n",
        "print ('Coefficient of the model : ', regression_model.coef_)"
      ],
      "metadata": {
        "colab": {
          "base_uri": "https://localhost:8080/"
        },
        "id": "msCUye9KIirz",
        "outputId": "35a840c7-6c26-4b31-f441-6167677cb772"
      },
      "execution_count": 107,
      "outputs": [
        {
          "output_type": "stream",
          "name": "stdout",
          "text": [
            "Intercept of the model :  1.295945346533\n",
            "Coefficient of the model :  [0.00200792]\n"
          ]
        }
      ]
    },
    {
      "cell_type": "markdown",
      "source": [
        "Model Evaluation\n",
        "\n",
        "To evaluate the performance of Linear Regression model, we could use Mean Squared Error (MSE), Root Mean Square error and Mean Absolute Error as Cost Functions. This Error explains the difference value between obtained and actual values.\n",
        "\n"
      ],
      "metadata": {
        "id": "ADpAYMTmI0g8"
      }
    },
    {
      "cell_type": "code",
      "source": [
        "# Evaluate the model performance in the training set\n",
        "from sklearn.metrics import mean_squared_error, mean_absolute_error\n",
        "\n",
        "\n",
        "result_dict_test={}\n",
        "\n",
        "mse = mean_squared_error(y_train, y_train_pred)\n",
        "rmse=np.sqrt(mse)\n",
        "mae=mean_absolute_error(y_train, y_train_pred)\n",
        "\n",
        "# Evaluate the model performance in the testing set\n",
        "mse = mean_squared_error (y_test, y_test_pred)\n",
        "rmse=np.sqrt(mse)\n",
        "mae=mean_absolute_error(y_test, y_test_pred)\n",
        "\n",
        "result_dict_test['test_mse']=mse\n",
        "result_dict_test['test_rmse']=rmse\n",
        "result_dict_test['test_mae']=mae\n",
        "\n",
        "print(' ')\n",
        "print('MeanSquaredError obtained in the testing set:',mse)\n",
        "print(' ')\n",
        "print('RootMeanSquaredError obtained in the testing set:',rmse)\n",
        "print(' ')\n",
        "print('MeanAbsoluteError obtained in the testing set:',mae)"
      ],
      "metadata": {
        "colab": {
          "base_uri": "https://localhost:8080/"
        },
        "id": "BhNbc470JKh3",
        "outputId": "f557b3ac-8f52-4afd-8003-f5ca09a141a1"
      },
      "execution_count": 108,
      "outputs": [
        {
          "output_type": "stream",
          "name": "stdout",
          "text": [
            " \n",
            "MeanSquaredError obtained in the testing set: 9.45784432335526\n",
            " \n",
            "RootMeanSquaredError obtained in the testing set: 3.0753608444140763\n",
            " \n",
            "MeanAbsoluteError obtained in the testing set: 2.1674194089828136\n"
          ]
        }
      ]
    },
    {
      "cell_type": "code",
      "source": [
        "fig = plt.figure()\n",
        "ax = fig.add_axes([0,0,1,1])\n",
        "Datasets = ['MSE in test Dataset', 'RMSE in test Dataset','MAE in test Dataset']\n",
        "Obtained_Values = list(result_dict_test.values())\n",
        "ax.bar(Datasets, Obtained_Values,color='Orange')\n",
        "plt.xticks(rotation=45)\n",
        "plt.show()"
      ],
      "metadata": {
        "colab": {
          "base_uri": "https://localhost:8080/",
          "height": 406
        },
        "id": "Wnbdliy1KKqi",
        "outputId": "1c651be1-5fcd-436f-dff9-0eed89f39c1f"
      },
      "execution_count": 82,
      "outputs": [
        {
          "output_type": "display_data",
          "data": {
            "image/png": "[encoded data removed]",
            "text/plain": [
              "<Figure size 432x288 with 1 Axes>"
            ]
          },
          "metadata": {
            "needs_background": "light"
          }
        }
      ]
    },
    {
      "cell_type": "markdown",
      "source": [
        "From the above obtained values, it is evident that MSE value is High. In order to be the model efficient, we need to fine tune the model by applying logarthimic method. From the distribution graphs above, we can see that the dependent variable Price is rightly skewed. To transform it to Normal distribution, we will apply logarthimic function."
      ],
      "metadata": {
        "id": "5Qjm6xqOKHer"
      }
    },
    {
      "cell_type": "code",
      "source": [
        "# Plot the original and transformed dependent variable\n",
        "\n",
        "# original dependent variable\n",
        "y = df['PRICE'] \n",
        "\n",
        "# apply logarithmic function to transform the dependent variable \n",
        "y_trans = np.log(y.values.reshape(-1,1))      \n",
        "\n",
        "# Plot the original dependent variable\n",
        "plt.hist(y, bins=50,color='Orange')\n",
        "plt.ylabel('Density')\n",
        "plt.xlabel('Original values')\n",
        "plt.title('Original values distribution')\n"
      ],
      "metadata": {
        "colab": {
          "base_uri": "https://localhost:8080/",
          "height": 312
        },
        "id": "irggQ-HEJ1D7",
        "outputId": "38700af6-b3dd-4aed-d56c-9955de69a64b"
      },
      "execution_count": 83,
      "outputs": [
        {
          "output_type": "execute_result",
          "data": {
            "text/plain": [
              "Text(0.5, 1.0, 'Original values distribution')"
            ]
          },
          "metadata": {},
          "execution_count": 83
        },
        {
          "output_type": "display_data",
          "data": {
            "image/png": "[encoded data removed]",
            "text/plain": [
              "<Figure size 432x288 with 1 Axes>"
            ]
          },
          "metadata": {
            "needs_background": "light"
          }
        }
      ]
    },
    {
      "cell_type": "code",
      "source": [
        "\n",
        "# Plot the transformed dependent variable\n",
        "plt.hist(y_trans, bins=50,color='Orange')\n",
        "plt.ylabel('Density')\n",
        "plt.xlabel('Log Transformed values')\n",
        "plt.title(' Log Transformed distribution')"
      ],
      "metadata": {
        "colab": {
          "base_uri": "https://localhost:8080/",
          "height": 312
        },
        "id": "lONbrxR1QSsv",
        "outputId": "a50a8d76-3dd6-4916-f570-507e1b320b9c"
      },
      "execution_count": 84,
      "outputs": [
        {
          "output_type": "execute_result",
          "data": {
            "text/plain": [
              "Text(0.5, 1.0, ' Log Transformed distribution')"
            ]
          },
          "metadata": {},
          "execution_count": 84
        },
        {
          "output_type": "display_data",
          "data": {
            "image/png": "[encoded data removed]",
            "text/plain": [
              "<Figure size 432x288 with 1 Axes>"
            ]
          },
          "metadata": {
            "needs_background": "light"
          }
        }
      ]
    },
    {
      "cell_type": "markdown",
      "source": [
        "Similarly, we can try transforming the SIZE independent variable since previously it showed to be positive skewed."
      ],
      "metadata": {
        "id": "-4rj0y2PLFig"
      }
    },
    {
      "cell_type": "code",
      "source": [
        "# Plot the original and transformed dependent variable\n",
        "\n",
        "# original independent variable\n",
        "x = df['Size']\n",
        "\n",
        "# apply logarithmic function to transform the independent variable \n",
        "x_trans = np.log(x.values.reshape(-1,1))      \n",
        "\n",
        "\n",
        "# Plot the original dependent variable\n",
        "plt.hist(x, bins=50,color='Orange')\n",
        "plt.ylabel('Density')\n",
        "plt.xlabel('Original Size values')\n",
        "plt.title('Original Size distribution')\n"
      ],
      "metadata": {
        "colab": {
          "base_uri": "https://localhost:8080/",
          "height": 312
        },
        "id": "YNY0BRdfLHc3",
        "outputId": "c242bb07-f0d3-4f7e-9fe6-81456452017c"
      },
      "execution_count": 85,
      "outputs": [
        {
          "output_type": "execute_result",
          "data": {
            "text/plain": [
              "Text(0.5, 1.0, 'Original Size distribution')"
            ]
          },
          "metadata": {},
          "execution_count": 85
        },
        {
          "output_type": "display_data",
          "data": {
            "image/png": "[encoded data removed]",
            "text/plain": [
              "<Figure size 432x288 with 1 Axes>"
            ]
          },
          "metadata": {
            "needs_background": "light"
          }
        }
      ]
    },
    {
      "cell_type": "code",
      "source": [
        "\n",
        "# Plot the transformed dependent variable\n",
        "plt.hist(x_trans, bins=100,color='Orange')\n",
        "plt.ylabel('Density')\n",
        "plt.xlabel('Log Transformed Size values')\n",
        "plt.title('Log Transformed Size distribution')"
      ],
      "metadata": {
        "colab": {
          "base_uri": "https://localhost:8080/",
          "height": 312
        },
        "id": "axiu9rXeRM39",
        "outputId": "3bcc862f-c4ef-4727-bb7c-af545b7cea6f"
      },
      "execution_count": 86,
      "outputs": [
        {
          "output_type": "execute_result",
          "data": {
            "text/plain": [
              "Text(0.5, 1.0, 'Log Transformed Size distribution')"
            ]
          },
          "metadata": {},
          "execution_count": 86
        },
        {
          "output_type": "display_data",
          "data": {
            "image/png": "[encoded data removed]",
            "text/plain": [
              "<Figure size 432x288 with 1 Axes>"
            ]
          },
          "metadata": {
            "needs_background": "light"
          }
        }
      ]
    },
    {
      "cell_type": "code",
      "source": [
        "# Plot a scatter plot of the transformed SIZE and the transformed PRICE\n",
        "sns.regplot(x=x_trans, y=y_trans,color='Orange')"
      ],
      "metadata": {
        "colab": {
          "base_uri": "https://localhost:8080/",
          "height": 282
        },
        "id": "_zdHPBhjLRdg",
        "outputId": "7e982123-a2f2-4564-f042-9755512096ab"
      },
      "execution_count": 87,
      "outputs": [
        {
          "output_type": "execute_result",
          "data": {
            "text/plain": [
              "<matplotlib.axes._subplots.AxesSubplot at 0x7f84762d3b10>"
            ]
          },
          "metadata": {},
          "execution_count": 87
        },
        {
          "output_type": "display_data",
          "data": {
            "image/png": "[encoded data removed]",
            "text/plain": [
              "<Figure size 432x288 with 1 Axes>"
            ]
          },
          "metadata": {
            "needs_background": "light"
          }
        }
      ]
    },
    {
      "cell_type": "markdown",
      "source": [
        "**Model 2**\n",
        "This model is the finetuned by transforming independent and dependent variables of previous model. \n",
        "\n",
        "X : log(Size)\n",
        "\n",
        "Y: log(Price) "
      ],
      "metadata": {
        "id": "xlOcSUCeL5s8"
      }
    },
    {
      "cell_type": "code",
      "source": [
        "from sklearn.compose import TransformedTargetRegressor\n",
        "\n",
        "# Split data for training (80%) and testing (20%)\n",
        "X_train_trans, X_test_trans, y_train_trans, y_test_trans = train_test_split(x_trans, y_trans, train_size = 0.8,random_state=10)\n",
        "print ('Shape of X_train and y_train: ', X_train.shape, y_train.shape)\n",
        "\n",
        "print ('Shape of X_test and y_test: ', X_test.shape, y_test.shape)\n",
        "print(' ')\n",
        "\n",
        "# Building a Linear Regression model\n",
        "from sklearn.linear_model import LinearRegression\n",
        "regression_model_trans = LinearRegression()\n",
        "\n",
        "# Fit the model into the training data\n",
        "regression_model_trans.fit (X_train_trans, y_train_trans)\n",
        "\n",
        "# Apply the model to predict y in the test set\n",
        "y_test_trans_pred = regression_model_trans.predict (X_test_trans) \n",
        "\n",
        "# Apply the model to predict y in the train set\n",
        "y_train_trans_pred = regression_model_trans.predict(X_train_trans)\n",
        "\n",
        "# Evaluate the model performance in the testing set\n",
        "mae_test=mean_absolute_error(y_test_trans, y_test_trans_pred)\n",
        "mse_test = mean_squared_error (y_test_trans, y_test_trans_pred)\n",
        "rmse_test=np.sqrt(mse_test)\n",
        "\n",
        "print('Mean Absolute Error in the testing set for Model-2:', mae_test)\n",
        "print(' ')\n",
        "print('Mean Square Error in the testing set for Model-2:',mse_test)\n",
        "print(' ')\n",
        "print('Root Mean Square Error in the testing set for Model-2:',rmse_test)\n"
      ],
      "metadata": {
        "colab": {
          "base_uri": "https://localhost:8080/"
        },
        "id": "HFuIej3pMPXc",
        "outputId": "3d98fc9a-7716-4c91-8505-00f5af123065"
      },
      "execution_count": 103,
      "outputs": [
        {
          "output_type": "stream",
          "name": "stdout",
          "text": [
            "Shape of X_train and y_train:  (344, 5) (344, 1)\n",
            "Shape of X_test and y_test:  (86, 5) (86, 1)\n",
            " \n",
            "Mean Absolute Error in the testing set for Model-2: 0.7968179727709628\n",
            " \n",
            "Mean Square Error in the testing set for Model-2: 1.1216876187226534\n",
            " \n",
            "Root Mean Square Error in the testing set for Model-2: 1.0590975492005699\n"
          ]
        }
      ]
    },
    {
      "cell_type": "code",
      "source": [
        "#plotting the obtained values into bar graph\n",
        "result_dict_test={}\n",
        "result_dict_test['test_mse']=mse_test\n",
        "result_dict_test['test_rmse']=rmse_test\n",
        "result_dict_test['test_mae']=mae_test\n",
        "fig = plt.figure()\n",
        "Datasets = ['MSE in test Dataset', 'RMSE in test Dataset','MAE in test Dataset']\n",
        "Obtained_Values = list(result_dict_test.values())\n",
        "plt.bar(Datasets,Obtained_Values,color='Orange')\n",
        "plt.xticks(rotation=45)\n",
        "plt.show()"
      ],
      "metadata": {
        "colab": {
          "base_uri": "https://localhost:8080/",
          "height": 337
        },
        "id": "92BK6JlDTxRt",
        "outputId": "5e79c185-719a-4f94-e06a-6ec052b725ef"
      },
      "execution_count": 89,
      "outputs": [
        {
          "output_type": "display_data",
          "data": {
            "image/png": "[encoded data removed]",
            "text/plain": [
              "<Figure size 432x288 with 1 Axes>"
            ]
          },
          "metadata": {
            "needs_background": "light"
          }
        }
      ]
    },
    {
      "cell_type": "code",
      "source": [
        "# Print intercept and coefficient of the model\n",
        "print ('Intercept of the model 2: ', regression_model_trans.intercept_)\n",
        "print('Coefficient of the model 2: ', regression_model_trans.coef_)"
      ],
      "metadata": {
        "colab": {
          "base_uri": "https://localhost:8080/"
        },
        "id": "SewuCcq2NBX3",
        "outputId": "deedbbe8-7b38-4261-f09b-9ffb1ef428f8"
      },
      "execution_count": 90,
      "outputs": [
        {
          "output_type": "stream",
          "name": "stdout",
          "text": [
            "Intercept of the model 2:  [-8.79777232]\n",
            "Coefficient of the model 2:  [[1.36801664]]\n"
          ]
        }
      ]
    },
    {
      "cell_type": "markdown",
      "source": [
        "Conclusion: Based on MSE of the above simple Linear Regression models, we found that the model 2, which has the transformed Size and the transformed PRICE as independent and dependent variables, achieved the better performance. "
      ],
      "metadata": {
        "id": "v649oyJHPd19"
      }
    },
    {
      "cell_type": "markdown",
      "source": [
        "**Model 3:**\n",
        "**Multivariate Linear Regression Model:**\n",
        "\n",
        "In this model, more than one independent variable is considered for modeling. In this dataset, the variables which are likely predictors are the SIZE, the HOUSE, and the SIGNED. Since PICTURE contains unique values those variables will not be considered in this model. As size is the values of product of Height and Weights, we are not considering those variables again in this modeling.\n",
        "\n",
        "The SIGNED and HOUSE variables contain discrete values:"
      ],
      "metadata": {
        "id": "0we6cKBCT6Hf"
      }
    },
    {
      "cell_type": "code",
      "source": [
        "print('Signed')\n",
        "df['SIGNED'].value_counts()\n"
      ],
      "metadata": {
        "colab": {
          "base_uri": "https://localhost:8080/"
        },
        "id": "vUQuOy3cVLPZ",
        "outputId": "f3743802-378e-473e-ff80-b6586f432470"
      },
      "execution_count": 91,
      "outputs": [
        {
          "output_type": "stream",
          "name": "stdout",
          "text": [
            "Signed\n"
          ]
        },
        {
          "output_type": "execute_result",
          "data": {
            "text/plain": [
              "1    353\n",
              "0     77\n",
              "Name: SIGNED, dtype: int64"
            ]
          },
          "metadata": {},
          "execution_count": 91
        }
      ]
    },
    {
      "cell_type": "code",
      "source": [
        "\n",
        "print('House')\n",
        "df['HOUSE '].value_counts()"
      ],
      "metadata": {
        "colab": {
          "base_uri": "https://localhost:8080/"
        },
        "id": "C2kiLv7MV95Z",
        "outputId": "88b738c6-479a-4c4f-ef79-5db9a33ba386"
      },
      "execution_count": 92,
      "outputs": [
        {
          "output_type": "stream",
          "name": "stdout",
          "text": [
            "House\n"
          ]
        },
        {
          "output_type": "execute_result",
          "data": {
            "text/plain": [
              "2    215\n",
              "1    191\n",
              "3     24\n",
              "Name: HOUSE , dtype: int64"
            ]
          },
          "metadata": {},
          "execution_count": 92
        }
      ]
    },
    {
      "cell_type": "markdown",
      "source": [
        "SIGNED is a binary variable, but the HOUSE variable has three classes (1,2,3). We still can use discrete variables for Linear Regression, but these fields should be dummy coded before inputing into the Linear Regression model."
      ],
      "metadata": {
        "id": "W5yZO1LAWQhR"
      }
    },
    {
      "cell_type": "code",
      "source": [
        "# Create dummy columns of the HOUSE variable\n",
        "dummy_house_values = pd.get_dummies(df['HOUSE '], prefix='HOUSE')\n",
        "\n",
        "# Join the dummy columns with the dataset\n",
        "df=df.join(dummy_house_values)\n",
        "display(df)"
      ],
      "metadata": {
        "colab": {
          "base_uri": "https://localhost:8080/",
          "height": 424
        },
        "id": "iMYnJ9oQWQFI",
        "outputId": "429d04f3-6882-4174-f7f2-aa3cec117652"
      },
      "execution_count": 93,
      "outputs": [
        {
          "output_type": "display_data",
          "data": {
            "text/html": [
              "\n",
              "  <div id=\"df-3db4c6e6-70af-4246-83a1-2132b3cc7638\">\n",
              "    <div class=\"colab-df-container\">\n",
              "      <div>\n",
              "<style scoped>\n",
              "    .dataframe tbody tr th:only-of-type {\n",
              "        vertical-align: middle;\n",
              "    }\n",
              "\n",
              "    .dataframe tbody tr th {\n",
              "        vertical-align: top;\n",
              "    }\n",
              "\n",
              "    .dataframe thead th {\n",
              "        text-align: right;\n",
              "    }\n",
              "</style>\n",
              "<table border=\"1\" class=\"dataframe\">\n",
              "  <thead>\n",
              "    <tr style=\"text-align: right;\">\n",
              "      <th></th>\n",
              "      <th>PRICE</th>\n",
              "      <th>HEIGHT</th>\n",
              "      <th>WIDTH</th>\n",
              "      <th>SIGNED</th>\n",
              "      <th>PICTURE</th>\n",
              "      <th>HOUSE</th>\n",
              "      <th>Size</th>\n",
              "      <th>HOUSE_1</th>\n",
              "      <th>HOUSE_2</th>\n",
              "      <th>HOUSE_3</th>\n",
              "    </tr>\n",
              "  </thead>\n",
              "  <tbody>\n",
              "    <tr>\n",
              "      <th>0</th>\n",
              "      <td>3.993780</td>\n",
              "      <td>21.3</td>\n",
              "      <td>25.6</td>\n",
              "      <td>1</td>\n",
              "      <td>1</td>\n",
              "      <td>1</td>\n",
              "      <td>545.28</td>\n",
              "      <td>1</td>\n",
              "      <td>0</td>\n",
              "      <td>0</td>\n",
              "    </tr>\n",
              "    <tr>\n",
              "      <th>1</th>\n",
              "      <td>8.800000</td>\n",
              "      <td>31.9</td>\n",
              "      <td>25.6</td>\n",
              "      <td>1</td>\n",
              "      <td>2</td>\n",
              "      <td>2</td>\n",
              "      <td>816.64</td>\n",
              "      <td>0</td>\n",
              "      <td>1</td>\n",
              "      <td>0</td>\n",
              "    </tr>\n",
              "    <tr>\n",
              "      <th>2</th>\n",
              "      <td>0.131694</td>\n",
              "      <td>6.9</td>\n",
              "      <td>15.9</td>\n",
              "      <td>0</td>\n",
              "      <td>3</td>\n",
              "      <td>3</td>\n",
              "      <td>109.71</td>\n",
              "      <td>0</td>\n",
              "      <td>0</td>\n",
              "      <td>1</td>\n",
              "    </tr>\n",
              "    <tr>\n",
              "      <th>3</th>\n",
              "      <td>2.037500</td>\n",
              "      <td>25.7</td>\n",
              "      <td>32.0</td>\n",
              "      <td>1</td>\n",
              "      <td>4</td>\n",
              "      <td>2</td>\n",
              "      <td>822.40</td>\n",
              "      <td>0</td>\n",
              "      <td>1</td>\n",
              "      <td>0</td>\n",
              "    </tr>\n",
              "    <tr>\n",
              "      <th>4</th>\n",
              "      <td>1.487500</td>\n",
              "      <td>25.7</td>\n",
              "      <td>32.0</td>\n",
              "      <td>1</td>\n",
              "      <td>4</td>\n",
              "      <td>2</td>\n",
              "      <td>822.40</td>\n",
              "      <td>0</td>\n",
              "      <td>1</td>\n",
              "      <td>0</td>\n",
              "    </tr>\n",
              "    <tr>\n",
              "      <th>...</th>\n",
              "      <td>...</td>\n",
              "      <td>...</td>\n",
              "      <td>...</td>\n",
              "      <td>...</td>\n",
              "      <td>...</td>\n",
              "      <td>...</td>\n",
              "      <td>...</td>\n",
              "      <td>...</td>\n",
              "      <td>...</td>\n",
              "      <td>...</td>\n",
              "    </tr>\n",
              "    <tr>\n",
              "      <th>425</th>\n",
              "      <td>5.282500</td>\n",
              "      <td>25.6</td>\n",
              "      <td>39.4</td>\n",
              "      <td>1</td>\n",
              "      <td>375</td>\n",
              "      <td>1</td>\n",
              "      <td>1008.64</td>\n",
              "      <td>1</td>\n",
              "      <td>0</td>\n",
              "      <td>0</td>\n",
              "    </tr>\n",
              "    <tr>\n",
              "      <th>426</th>\n",
              "      <td>9.352500</td>\n",
              "      <td>25.9</td>\n",
              "      <td>39.6</td>\n",
              "      <td>1</td>\n",
              "      <td>375</td>\n",
              "      <td>2</td>\n",
              "      <td>1025.64</td>\n",
              "      <td>0</td>\n",
              "      <td>1</td>\n",
              "      <td>0</td>\n",
              "    </tr>\n",
              "    <tr>\n",
              "      <th>427</th>\n",
              "      <td>8.252500</td>\n",
              "      <td>25.6</td>\n",
              "      <td>39.6</td>\n",
              "      <td>1</td>\n",
              "      <td>375</td>\n",
              "      <td>1</td>\n",
              "      <td>1013.76</td>\n",
              "      <td>1</td>\n",
              "      <td>0</td>\n",
              "      <td>0</td>\n",
              "    </tr>\n",
              "    <tr>\n",
              "      <th>428</th>\n",
              "      <td>3.410000</td>\n",
              "      <td>25.6</td>\n",
              "      <td>39.4</td>\n",
              "      <td>1</td>\n",
              "      <td>386</td>\n",
              "      <td>2</td>\n",
              "      <td>1008.64</td>\n",
              "      <td>0</td>\n",
              "      <td>1</td>\n",
              "      <td>0</td>\n",
              "    </tr>\n",
              "    <tr>\n",
              "      <th>429</th>\n",
              "      <td>1.542500</td>\n",
              "      <td>25.7</td>\n",
              "      <td>32.0</td>\n",
              "      <td>1</td>\n",
              "      <td>387</td>\n",
              "      <td>1</td>\n",
              "      <td>822.40</td>\n",
              "      <td>1</td>\n",
              "      <td>0</td>\n",
              "      <td>0</td>\n",
              "    </tr>\n",
              "  </tbody>\n",
              "</table>\n",
              "<p>430 rows × 10 columns</p>\n",
              "</div>\n",
              "      <button class=\"colab-df-convert\" onclick=\"convertToInteractive('df-3db4c6e6-70af-4246-83a1-2132b3cc7638')\"\n",
              "              title=\"Convert this dataframe to an interactive table.\"\n",
              "              style=\"display:none;\">\n",
              "        \n",
              "  <svg xmlns=\"http://www.w3.org/2000/svg\" height=\"24px\"viewBox=\"0 0 24 24\"\n",
              "       width=\"24px\">\n",
              "    <path d=\"M0 0h24v24H0V0z\" fill=\"none\"/>\n",
              "    <path d=\"M18.56 5.44l.94 2.06.94-2.06 2.06-.94-2.06-.94-.94-2.06-.94 2.06-2.06.94zm-11 1L8.5 8.5l.94-2.06 2.06-.94-2.06-.94L8.5 2.5l-.94 2.06-2.06.94zm10 10l.94 2.06.94-2.06 2.06-.94-2.06-.94-.94-2.06-.94 2.06-2.06.94z\"/><path d=\"M17.41 7.96l-1.37-1.37c-.4-.4-.92-.59-1.43-.59-.52 0-1.04.2-1.43.59L10.3 9.45l-7.72 7.72c-.78.78-.78 2.05 0 2.83L4 21.41c.39.39.9.59 1.41.59.51 0 1.02-.2 1.41-.59l7.78-7.78 2.81-2.81c.8-.78.8-2.07 0-2.86zM5.41 20L4 18.59l7.72-7.72 1.47 1.35L5.41 20z\"/>\n",
              "  </svg>\n",
              "      </button>\n",
              "      \n",
              "  <style>\n",
              "    .colab-df-container {\n",
              "      display:flex;\n",
              "      flex-wrap:wrap;\n",
              "      gap: 12px;\n",
              "    }\n",
              "\n",
              "    .colab-df-convert {\n",
              "      background-color: #E8F0FE;\n",
              "      border: none;\n",
              "      border-radius: 50%;\n",
              "      cursor: pointer;\n",
              "      display: none;\n",
              "      fill: #1967D2;\n",
              "      height: 32px;\n",
              "      padding: 0 0 0 0;\n",
              "      width: 32px;\n",
              "    }\n",
              "\n",
              "    .colab-df-convert:hover {\n",
              "      background-color: #E2EBFA;\n",
              "      box-shadow: 0px 1px 2px rgba(60, 64, 67, 0.3), 0px 1px 3px 1px rgba(60, 64, 67, 0.15);\n",
              "      fill: #174EA6;\n",
              "    }\n",
              "\n",
              "    [theme=dark] .colab-df-convert {\n",
              "      background-color: #3B4455;\n",
              "      fill: #D2E3FC;\n",
              "    }\n",
              "\n",
              "    [theme=dark] .colab-df-convert:hover {\n",
              "      background-color: #434B5C;\n",
              "      box-shadow: 0px 1px 3px 1px rgba(0, 0, 0, 0.15);\n",
              "      filter: drop-shadow(0px 1px 2px rgba(0, 0, 0, 0.3));\n",
              "      fill: #FFFFFF;\n",
              "    }\n",
              "  </style>\n",
              "\n",
              "      <script>\n",
              "        const buttonEl =\n",
              "          document.querySelector('#df-3db4c6e6-70af-4246-83a1-2132b3cc7638 button.colab-df-convert');\n",
              "        buttonEl.style.display =\n",
              "          google.colab.kernel.accessAllowed ? 'block' : 'none';\n",
              "\n",
              "        async function convertToInteractive(key) {\n",
              "          const element = document.querySelector('#df-3db4c6e6-70af-4246-83a1-2132b3cc7638');\n",
              "          const dataTable =\n",
              "            await google.colab.kernel.invokeFunction('convertToInteractive',\n",
              "                                                     [key], {});\n",
              "          if (!dataTable) return;\n",
              "\n",
              "          const docLinkHtml = 'Like what you see? Visit the ' +\n",
              "            '<a target=\"_blank\" href=https://colab.research.google.com/notebooks/data_table.ipynb>data table notebook</a>'\n",
              "            + ' to learn more about interactive tables.';\n",
              "          element.innerHTML = '';\n",
              "          dataTable['output_type'] = 'display_data';\n",
              "          await google.colab.output.renderOutput(dataTable, element);\n",
              "          const docLink = document.createElement('div');\n",
              "          docLink.innerHTML = docLinkHtml;\n",
              "          element.appendChild(docLink);\n",
              "        }\n",
              "      </script>\n",
              "    </div>\n",
              "  </div>\n",
              "  "
            ],
            "text/plain": [
              "        PRICE  HEIGHT  WIDTH  SIGNED  ...     Size  HOUSE_1  HOUSE_2  HOUSE_3\n",
              "0    3.993780    21.3   25.6       1  ...   545.28        1        0        0\n",
              "1    8.800000    31.9   25.6       1  ...   816.64        0        1        0\n",
              "2    0.131694     6.9   15.9       0  ...   109.71        0        0        1\n",
              "3    2.037500    25.7   32.0       1  ...   822.40        0        1        0\n",
              "4    1.487500    25.7   32.0       1  ...   822.40        0        1        0\n",
              "..        ...     ...    ...     ...  ...      ...      ...      ...      ...\n",
              "425  5.282500    25.6   39.4       1  ...  1008.64        1        0        0\n",
              "426  9.352500    25.9   39.6       1  ...  1025.64        0        1        0\n",
              "427  8.252500    25.6   39.6       1  ...  1013.76        1        0        0\n",
              "428  3.410000    25.6   39.4       1  ...  1008.64        0        1        0\n",
              "429  1.542500    25.7   32.0       1  ...   822.40        1        0        0\n",
              "\n",
              "[430 rows x 10 columns]"
            ]
          },
          "metadata": {}
        }
      ]
    },
    {
      "cell_type": "markdown",
      "source": [
        "Now, we will use Logarthmic method for Independent Variable 'Size'and Dependent Variable 'Price' for transormation of their values as these are rightly skewed."
      ],
      "metadata": {
        "id": "XyDBHQzTXdCA"
      }
    },
    {
      "cell_type": "code",
      "source": [
        "# add the transformed SIZE variable into the dataset\n",
        "df['SIZE_log']=x_trans\n",
        "\n",
        "X = df[['SIZE_log', 'SIGNED', 'HOUSE_1', 'HOUSE_2', 'HOUSE_3']]\n",
        "y = y_trans\n",
        "print('X shape and y shape: ', X.shape, y.shape)"
      ],
      "metadata": {
        "colab": {
          "base_uri": "https://localhost:8080/"
        },
        "id": "OY_I4MpeX1j0",
        "outputId": "33bd4389-a310-4f47-d559-591f86ac63a8"
      },
      "execution_count": 94,
      "outputs": [
        {
          "output_type": "stream",
          "name": "stdout",
          "text": [
            "X shape and y shape:  (430, 5) (430, 1)\n"
          ]
        }
      ]
    },
    {
      "cell_type": "code",
      "source": [
        "# Split data for training and test\n",
        "X_train, X_test, y_train, y_test = train_test_split(X, y, train_size=0.8,random_state=10 )\n",
        "\n",
        "print ('Shape of X_train and y_train: ', X_train.shape, y_train.shape)\n",
        "print ('Shape of X_test and y_test: ', X_test.shape, y_test.shape)"
      ],
      "metadata": {
        "colab": {
          "base_uri": "https://localhost:8080/"
        },
        "id": "V_FUVzALYM1F",
        "outputId": "54f6b383-c5a4-4ee9-92a3-50b8e53f4c74"
      },
      "execution_count": 95,
      "outputs": [
        {
          "output_type": "stream",
          "name": "stdout",
          "text": [
            "Shape of X_train and y_train:  (344, 5) (344, 1)\n",
            "Shape of X_test and y_test:  (86, 5) (86, 1)\n"
          ]
        }
      ]
    },
    {
      "cell_type": "code",
      "source": [
        "# Build a multivariate LR model\n",
        "mlr=LinearRegression()\n",
        "\n",
        "# Fit the built model into training set\n",
        "mlr.fit(X_train, y_train)"
      ],
      "metadata": {
        "colab": {
          "base_uri": "https://localhost:8080/"
        },
        "id": "4z8EWRgyYRdm",
        "outputId": "020aa10e-13e2-4ac8-df6e-3221832a119f"
      },
      "execution_count": 96,
      "outputs": [
        {
          "output_type": "execute_result",
          "data": {
            "text/plain": [
              "LinearRegression()"
            ]
          },
          "metadata": {},
          "execution_count": 96
        }
      ]
    },
    {
      "cell_type": "code",
      "source": [
        "# Evaluate the model performance in the testing set\n",
        "mae_test=mean_absolute_error(y_test, y_test_pred)\n",
        "mse_test = mean_squared_error (y_test, y_test_pred)\n",
        "rmse_test=np.sqrt(mse_test)\n",
        "\n",
        "print('MeanAbsoluteError in the test set:',mae_test)\n",
        "print(' ')\n",
        "print('MeanSquaredError in the test set:',mse_test)\n",
        "print(' ')\n",
        "print('RootMeanSquaredError in the test set:',rmse_test)"
      ],
      "metadata": {
        "colab": {
          "base_uri": "https://localhost:8080/"
        },
        "id": "FwUi-_VOYnNZ",
        "outputId": "211fe6a6-e0db-4de5-ef9d-eeafc17d17aa"
      },
      "execution_count": 97,
      "outputs": [
        {
          "output_type": "stream",
          "name": "stdout",
          "text": [
            "MeanAbsoluteError in the test set: 2.745888214120187\n",
            " \n",
            "MeanSquaredError in the test set: 8.683634871664427\n",
            " \n",
            "RootMeanSquaredError in the test set: 2.9468007858802445\n"
          ]
        }
      ]
    },
    {
      "cell_type": "code",
      "source": [
        "#plotting the obtained values into bar graph\n",
        "result_dict_test={}\n",
        "result_dict_test['test_mse']=mse_test\n",
        "result_dict_test['test_rmse']=rmse_test\n",
        "result_dict_test['test_mae']=mae_test\n",
        "fig = plt.figure()\n",
        "Datasets = ['MSE in test Dataset', 'RMSE in test Dataset','MAE in test Dataset']\n",
        "Obtained_Values = list(result_dict_test.values())\n",
        "plt.bar(Datasets,Obtained_Values,color='Orange')\n",
        "plt.xticks(rotation=45)\n",
        "plt.show()"
      ],
      "metadata": {
        "colab": {
          "base_uri": "https://localhost:8080/",
          "height": 337
        },
        "id": "me6RADuzYSmA",
        "outputId": "53d0709f-ce4b-4d16-a165-2ed7cb279c7b"
      },
      "execution_count": 98,
      "outputs": [
        {
          "output_type": "display_data",
          "data": {
            "image/png": "[encoded data removed]",
            "text/plain": [
              "<Figure size 432x288 with 1 Axes>"
            ]
          },
          "metadata": {
            "needs_background": "light"
          }
        }
      ]
    },
    {
      "cell_type": "markdown",
      "source": [
        "The model achieved decent performance comparing to Model 2\n",
        " **(Log (Size) vs Log(Price)**).\n",
        "\n",
        "\n",
        "\n"
      ],
      "metadata": {
        "id": "ORFl2AuHbTFI"
      }
    },
    {
      "cell_type": "code",
      "source": [
        "# Print coefficients and intercepts of the model\n",
        "print ('Intercept of the multivariate model: ', mlr.intercept_)\n",
        "print('Coefficient of the multivariate model: ', mlr.coef_)"
      ],
      "metadata": {
        "colab": {
          "base_uri": "https://localhost:8080/"
        },
        "id": "0GobjubSbSn5",
        "outputId": "567af94e-c51c-4594-f4e0-5248e2c4e3cd"
      },
      "execution_count": 99,
      "outputs": [
        {
          "output_type": "stream",
          "name": "stdout",
          "text": [
            "Intercept of the multivariate model:  [2.36426417e+14]\n",
            "Coefficient of the multivariate model:  [[ 1.34132110e+00  1.77391269e+00 -2.36426417e+14 -2.36426417e+14\n",
            "  -2.36426417e+14]]\n"
          ]
        }
      ]
    }
  ]
}