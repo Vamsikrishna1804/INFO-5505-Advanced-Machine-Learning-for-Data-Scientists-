{
  "nbformat": 4,
  "nbformat_minor": 0,
  "metadata": {
    "colab": {
      "name": "Muktinutalapati_Assignment5.ipynb",
      "provenance": [],
      "collapsed_sections": [],
      "authorship_tag": "ABX9TyPeBqkbJ9IyjUaGUGnCkAEX",
      "include_colab_link": true
    },
    "kernelspec": {
      "name": "python3",
      "display_name": "Python 3"
    },
    "language_info": {
      "name": "python"
    }
  },
  "cells": [
    {
      "cell_type": "markdown",
      "metadata": {
        "id": "view-in-github",
        "colab_type": "text"
      },
      "source": [
        "<a href=\"https://colab.research.google.com/github/Vamsikrishna1804/INFO-5505-Advanced-Machine-Learning-for-Data-Scientists-/blob/main/Muktinutalapati_Assignment5.ipynb\" target=\"_parent\"><img src=\"https://colab.research.google.com/assets/colab-badge.svg\" alt=\"Open In Colab\"/></a>"
      ]
    },
    {
      "cell_type": "code",
      "execution_count": null,
      "metadata": {
        "id": "J17CZJD1djcE"
      },
      "outputs": [],
      "source": [
        "#Importing Necessary Libraries\n",
        "import pandas as pd\n",
        "import numpy as np\n",
        "import seaborn as sns\n",
        "import matplotlib.pyplot as plt"
      ]
    },
    {
      "cell_type": "code",
      "source": [
        "# Getting data from url\n",
        "import base64\n",
        "import requests\n",
        "re = requests.get ('http://www.cse.chalmers.se/~richajo/dit862/data/all_sentiment_shuffled.txt')\n",
        "re.encoding = 'utf-8'\n",
        "data = re.text"
      ],
      "metadata": {
        "id": "9FHL-VqyN8TQ"
      },
      "execution_count": null,
      "outputs": []
    },
    {
      "cell_type": "code",
      "execution_count": null,
      "metadata": {
        "colab": {
          "base_uri": "https://localhost:8080/"
        },
        "id": "DlcxejC7GsQD",
        "outputId": "17665f23-fcfb-4ae0-e834-3cf4e3c3ddb7"
      },
      "outputs": [
        {
          "output_type": "stream",
          "name": "stdout",
          "text": [
            "data's type:   <class 'str'>\n",
            "music neg 241.txt i bought this album because i loved the title song . it 's such a great song , how bad can the rest of the album be , right ? well , the rest of the songs are just filler and are n't\n"
          ]
        }
      ],
      "source": [
        "# Printing data type and observing the original format of the data\n",
        "print(\"data's type:  \", type(data))\n",
        "print(data[:200])"
      ]
    },
    {
      "cell_type": "markdown",
      "source": [
        "From the above code block result, it is evident that the given data format is of string type."
      ],
      "metadata": {
        "id": "KV1p1oBixsPj"
      }
    },
    {
      "cell_type": "code",
      "source": [
        "# Reformatting the data\n",
        "\n",
        "# Creating empty lists of 4 data attributes:  reviews, topics, labels, and documment ids\n",
        "reviews, topics, labels, doc_id = [],[],[],[]\n",
        "\n",
        "# Looping over lines to separate them into separated attributes\n",
        "for line in data.splitlines():\n",
        "  reviews.append(' '.join(token for token in line.split()[3:]))\n",
        "  topics.append(line.split()[0])\n",
        "  labels.append(line.split()[1])\n",
        "  doc_id.append(line.split()[2])\n",
        "\n",
        "# Storing the separated data into dataframe\n",
        "df = pd.DataFrame(zip(doc_id, reviews, topics, labels), columns = ['doc_id', 'review', 'topic', 'label'])\n",
        "print(\"data's shape: \", df.shape)\n",
        "df.head()"
      ],
      "metadata": {
        "id": "CWuJpn_CP5FQ",
        "colab": {
          "base_uri": "https://localhost:8080/",
          "height": 224
        },
        "outputId": "3f0e2327-1e19-49b2-997f-ff152fc05232"
      },
      "execution_count": null,
      "outputs": [
        {
          "output_type": "stream",
          "name": "stdout",
          "text": [
            "data's shape:  (11914, 4)\n"
          ]
        },
        {
          "output_type": "execute_result",
          "data": {
            "text/plain": [
              "    doc_id                                             review  topic label\n",
              "0  241.txt  i bought this album because i loved the title ...  music   neg\n",
              "1  544.txt  i was misled and thought i was buying the enti...  music   neg\n",
              "2  729.txt  i have introduced many of my ell , high school...  books   neg\n",
              "3  278.txt  anything you purchase in the left behind serie...  books   pos\n",
              "4  840.txt  i loved these movies , and i cant wiat for the...    dvd   pos"
            ],
            "text/html": [
              "\n",
              "  <div id=\"df-264cc11a-a465-4ed5-9873-b50f696dc531\">\n",
              "    <div class=\"colab-df-container\">\n",
              "      <div>\n",
              "<style scoped>\n",
              "    .dataframe tbody tr th:only-of-type {\n",
              "        vertical-align: middle;\n",
              "    }\n",
              "\n",
              "    .dataframe tbody tr th {\n",
              "        vertical-align: top;\n",
              "    }\n",
              "\n",
              "    .dataframe thead th {\n",
              "        text-align: right;\n",
              "    }\n",
              "</style>\n",
              "<table border=\"1\" class=\"dataframe\">\n",
              "  <thead>\n",
              "    <tr style=\"text-align: right;\">\n",
              "      <th></th>\n",
              "      <th>doc_id</th>\n",
              "      <th>review</th>\n",
              "      <th>topic</th>\n",
              "      <th>label</th>\n",
              "    </tr>\n",
              "  </thead>\n",
              "  <tbody>\n",
              "    <tr>\n",
              "      <th>0</th>\n",
              "      <td>241.txt</td>\n",
              "      <td>i bought this album because i loved the title ...</td>\n",
              "      <td>music</td>\n",
              "      <td>neg</td>\n",
              "    </tr>\n",
              "    <tr>\n",
              "      <th>1</th>\n",
              "      <td>544.txt</td>\n",
              "      <td>i was misled and thought i was buying the enti...</td>\n",
              "      <td>music</td>\n",
              "      <td>neg</td>\n",
              "    </tr>\n",
              "    <tr>\n",
              "      <th>2</th>\n",
              "      <td>729.txt</td>\n",
              "      <td>i have introduced many of my ell , high school...</td>\n",
              "      <td>books</td>\n",
              "      <td>neg</td>\n",
              "    </tr>\n",
              "    <tr>\n",
              "      <th>3</th>\n",
              "      <td>278.txt</td>\n",
              "      <td>anything you purchase in the left behind serie...</td>\n",
              "      <td>books</td>\n",
              "      <td>pos</td>\n",
              "    </tr>\n",
              "    <tr>\n",
              "      <th>4</th>\n",
              "      <td>840.txt</td>\n",
              "      <td>i loved these movies , and i cant wiat for the...</td>\n",
              "      <td>dvd</td>\n",
              "      <td>pos</td>\n",
              "    </tr>\n",
              "  </tbody>\n",
              "</table>\n",
              "</div>\n",
              "      <button class=\"colab-df-convert\" onclick=\"convertToInteractive('df-264cc11a-a465-4ed5-9873-b50f696dc531')\"\n",
              "              title=\"Convert this dataframe to an interactive table.\"\n",
              "              style=\"display:none;\">\n",
              "        \n",
              "  <svg xmlns=\"http://www.w3.org/2000/svg\" height=\"24px\"viewBox=\"0 0 24 24\"\n",
              "       width=\"24px\">\n",
              "    <path d=\"M0 0h24v24H0V0z\" fill=\"none\"/>\n",
              "    <path d=\"M18.56 5.44l.94 2.06.94-2.06 2.06-.94-2.06-.94-.94-2.06-.94 2.06-2.06.94zm-11 1L8.5 8.5l.94-2.06 2.06-.94-2.06-.94L8.5 2.5l-.94 2.06-2.06.94zm10 10l.94 2.06.94-2.06 2.06-.94-2.06-.94-.94-2.06-.94 2.06-2.06.94z\"/><path d=\"M17.41 7.96l-1.37-1.37c-.4-.4-.92-.59-1.43-.59-.52 0-1.04.2-1.43.59L10.3 9.45l-7.72 7.72c-.78.78-.78 2.05 0 2.83L4 21.41c.39.39.9.59 1.41.59.51 0 1.02-.2 1.41-.59l7.78-7.78 2.81-2.81c.8-.78.8-2.07 0-2.86zM5.41 20L4 18.59l7.72-7.72 1.47 1.35L5.41 20z\"/>\n",
              "  </svg>\n",
              "      </button>\n",
              "      \n",
              "  <style>\n",
              "    .colab-df-container {\n",
              "      display:flex;\n",
              "      flex-wrap:wrap;\n",
              "      gap: 12px;\n",
              "    }\n",
              "\n",
              "    .colab-df-convert {\n",
              "      background-color: #E8F0FE;\n",
              "      border: none;\n",
              "      border-radius: 50%;\n",
              "      cursor: pointer;\n",
              "      display: none;\n",
              "      fill: #1967D2;\n",
              "      height: 32px;\n",
              "      padding: 0 0 0 0;\n",
              "      width: 32px;\n",
              "    }\n",
              "\n",
              "    .colab-df-convert:hover {\n",
              "      background-color: #E2EBFA;\n",
              "      box-shadow: 0px 1px 2px rgba(60, 64, 67, 0.3), 0px 1px 3px 1px rgba(60, 64, 67, 0.15);\n",
              "      fill: #174EA6;\n",
              "    }\n",
              "\n",
              "    [theme=dark] .colab-df-convert {\n",
              "      background-color: #3B4455;\n",
              "      fill: #D2E3FC;\n",
              "    }\n",
              "\n",
              "    [theme=dark] .colab-df-convert:hover {\n",
              "      background-color: #434B5C;\n",
              "      box-shadow: 0px 1px 3px 1px rgba(0, 0, 0, 0.15);\n",
              "      filter: drop-shadow(0px 1px 2px rgba(0, 0, 0, 0.3));\n",
              "      fill: #FFFFFF;\n",
              "    }\n",
              "  </style>\n",
              "\n",
              "      <script>\n",
              "        const buttonEl =\n",
              "          document.querySelector('#df-264cc11a-a465-4ed5-9873-b50f696dc531 button.colab-df-convert');\n",
              "        buttonEl.style.display =\n",
              "          google.colab.kernel.accessAllowed ? 'block' : 'none';\n",
              "\n",
              "        async function convertToInteractive(key) {\n",
              "          const element = document.querySelector('#df-264cc11a-a465-4ed5-9873-b50f696dc531');\n",
              "          const dataTable =\n",
              "            await google.colab.kernel.invokeFunction('convertToInteractive',\n",
              "                                                     [key], {});\n",
              "          if (!dataTable) return;\n",
              "\n",
              "          const docLinkHtml = 'Like what you see? Visit the ' +\n",
              "            '<a target=\"_blank\" href=https://colab.research.google.com/notebooks/data_table.ipynb>data table notebook</a>'\n",
              "            + ' to learn more about interactive tables.';\n",
              "          element.innerHTML = '';\n",
              "          dataTable['output_type'] = 'display_data';\n",
              "          await google.colab.output.renderOutput(dataTable, element);\n",
              "          const docLink = document.createElement('div');\n",
              "          docLink.innerHTML = docLinkHtml;\n",
              "          element.appendChild(docLink);\n",
              "        }\n",
              "      </script>\n",
              "    </div>\n",
              "  </div>\n",
              "  "
            ]
          },
          "metadata": {},
          "execution_count": 6
        }
      ]
    },
    {
      "cell_type": "markdown",
      "source": [
        "In the above code block, all the text data from the given URL is filtered into a line using for loop and appended it to their respective empty created list variables. After appending values to the list variables, dataframe with values has been created and shape of the dataframe is printed."
      ],
      "metadata": {
        "id": "uXNFqDDMx2E8"
      }
    },
    {
      "cell_type": "markdown",
      "source": [
        "Checking for any null values in a dataframe"
      ],
      "metadata": {
        "id": "gBYQnNulyLId"
      }
    },
    {
      "cell_type": "code",
      "source": [
        "df.isnull().sum()"
      ],
      "metadata": {
        "colab": {
          "base_uri": "https://localhost:8080/"
        },
        "id": "FEXo8WOU_GYy",
        "outputId": "2512a876-263c-49b9-c24d-31e5264bd824"
      },
      "execution_count": null,
      "outputs": [
        {
          "output_type": "execute_result",
          "data": {
            "text/plain": [
              "doc_id    0\n",
              "review    0\n",
              "topic     0\n",
              "label     0\n",
              "dtype: int64"
            ]
          },
          "metadata": {},
          "execution_count": 7
        }
      ]
    },
    {
      "cell_type": "markdown",
      "source": [
        "From the above code block result, it is evident that there are no null values in any of the fields."
      ],
      "metadata": {
        "id": "V6fzVBSoyOu0"
      }
    },
    {
      "cell_type": "markdown",
      "source": [
        "**Exploring the dependent variable**"
      ],
      "metadata": {
        "id": "oVA4wU51_JCQ"
      }
    },
    {
      "cell_type": "code",
      "source": [
        "print('data distribution in the dependent variable:\\n', df['label'].value_counts())\n",
        "sns.countplot(data = df, x = 'label')\n",
        "plt.show()"
      ],
      "metadata": {
        "colab": {
          "base_uri": "https://localhost:8080/",
          "height": 348
        },
        "id": "dlJm4ZHs_Lh5",
        "outputId": "e6421678-f146-494a-b55e-f5a253fcf8e7"
      },
      "execution_count": null,
      "outputs": [
        {
          "output_type": "stream",
          "name": "stdout",
          "text": [
            "data distribution in the dependent variable:\n",
            " pos    6000\n",
            "neg    5914\n",
            "Name: label, dtype: int64\n"
          ]
        },
        {
          "output_type": "display_data",
          "data": {
            "text/plain": [
              "<Figure size 432x288 with 1 Axes>"
            ],
            "image/png": "[encoded data removed]"
          },
          "metadata": {
            "needs_background": "light"
          }
        }
      ]
    },
    {
      "cell_type": "markdown",
      "source": [
        "Count plot has been plotted on the dependent variable to know the distribution. From the above graph, it is evident that there are 6000 positive text rows and 5914 negative text rows in a dataframe."
      ],
      "metadata": {
        "id": "LZEJpnRYyZjl"
      }
    },
    {
      "cell_type": "markdown",
      "source": [
        "Fortunately, the data equally distributes in two classes of the dependent variable."
      ],
      "metadata": {
        "id": "2ffJ0jze_Qhq"
      }
    },
    {
      "cell_type": "markdown",
      "source": [
        "Here, we have to encode labeled classes into numerics so that the machine can understand."
      ],
      "metadata": {
        "id": "0bJDTDc0_UN4"
      }
    },
    {
      "cell_type": "code",
      "source": [
        "# Encoding the target labels into the numeric type\n",
        "df['label'] = np.where(df['label']=='pos', 1, 0)\n",
        "df.head()"
      ],
      "metadata": {
        "colab": {
          "base_uri": "https://localhost:8080/",
          "height": 206
        },
        "id": "M8WR-BMp_RIQ",
        "outputId": "3ca2197c-82ba-4d9e-b253-f9fd043f82b3"
      },
      "execution_count": null,
      "outputs": [
        {
          "output_type": "execute_result",
          "data": {
            "text/plain": [
              "    doc_id                                             review  topic  label\n",
              "0  241.txt  i bought this album because i loved the title ...  music      0\n",
              "1  544.txt  i was misled and thought i was buying the enti...  music      0\n",
              "2  729.txt  i have introduced many of my ell , high school...  books      0\n",
              "3  278.txt  anything you purchase in the left behind serie...  books      1\n",
              "4  840.txt  i loved these movies , and i cant wiat for the...    dvd      1"
            ],
            "text/html": [
              "\n",
              "  <div id=\"df-486e5e30-0707-4a22-bee3-a6f5c1ca01e5\">\n",
              "    <div class=\"colab-df-container\">\n",
              "      <div>\n",
              "<style scoped>\n",
              "    .dataframe tbody tr th:only-of-type {\n",
              "        vertical-align: middle;\n",
              "    }\n",
              "\n",
              "    .dataframe tbody tr th {\n",
              "        vertical-align: top;\n",
              "    }\n",
              "\n",
              "    .dataframe thead th {\n",
              "        text-align: right;\n",
              "    }\n",
              "</style>\n",
              "<table border=\"1\" class=\"dataframe\">\n",
              "  <thead>\n",
              "    <tr style=\"text-align: right;\">\n",
              "      <th></th>\n",
              "      <th>doc_id</th>\n",
              "      <th>review</th>\n",
              "      <th>topic</th>\n",
              "      <th>label</th>\n",
              "    </tr>\n",
              "  </thead>\n",
              "  <tbody>\n",
              "    <tr>\n",
              "      <th>0</th>\n",
              "      <td>241.txt</td>\n",
              "      <td>i bought this album because i loved the title ...</td>\n",
              "      <td>music</td>\n",
              "      <td>0</td>\n",
              "    </tr>\n",
              "    <tr>\n",
              "      <th>1</th>\n",
              "      <td>544.txt</td>\n",
              "      <td>i was misled and thought i was buying the enti...</td>\n",
              "      <td>music</td>\n",
              "      <td>0</td>\n",
              "    </tr>\n",
              "    <tr>\n",
              "      <th>2</th>\n",
              "      <td>729.txt</td>\n",
              "      <td>i have introduced many of my ell , high school...</td>\n",
              "      <td>books</td>\n",
              "      <td>0</td>\n",
              "    </tr>\n",
              "    <tr>\n",
              "      <th>3</th>\n",
              "      <td>278.txt</td>\n",
              "      <td>anything you purchase in the left behind serie...</td>\n",
              "      <td>books</td>\n",
              "      <td>1</td>\n",
              "    </tr>\n",
              "    <tr>\n",
              "      <th>4</th>\n",
              "      <td>840.txt</td>\n",
              "      <td>i loved these movies , and i cant wiat for the...</td>\n",
              "      <td>dvd</td>\n",
              "      <td>1</td>\n",
              "    </tr>\n",
              "  </tbody>\n",
              "</table>\n",
              "</div>\n",
              "      <button class=\"colab-df-convert\" onclick=\"convertToInteractive('df-486e5e30-0707-4a22-bee3-a6f5c1ca01e5')\"\n",
              "              title=\"Convert this dataframe to an interactive table.\"\n",
              "              style=\"display:none;\">\n",
              "        \n",
              "  <svg xmlns=\"http://www.w3.org/2000/svg\" height=\"24px\"viewBox=\"0 0 24 24\"\n",
              "       width=\"24px\">\n",
              "    <path d=\"M0 0h24v24H0V0z\" fill=\"none\"/>\n",
              "    <path d=\"M18.56 5.44l.94 2.06.94-2.06 2.06-.94-2.06-.94-.94-2.06-.94 2.06-2.06.94zm-11 1L8.5 8.5l.94-2.06 2.06-.94-2.06-.94L8.5 2.5l-.94 2.06-2.06.94zm10 10l.94 2.06.94-2.06 2.06-.94-2.06-.94-.94-2.06-.94 2.06-2.06.94z\"/><path d=\"M17.41 7.96l-1.37-1.37c-.4-.4-.92-.59-1.43-.59-.52 0-1.04.2-1.43.59L10.3 9.45l-7.72 7.72c-.78.78-.78 2.05 0 2.83L4 21.41c.39.39.9.59 1.41.59.51 0 1.02-.2 1.41-.59l7.78-7.78 2.81-2.81c.8-.78.8-2.07 0-2.86zM5.41 20L4 18.59l7.72-7.72 1.47 1.35L5.41 20z\"/>\n",
              "  </svg>\n",
              "      </button>\n",
              "      \n",
              "  <style>\n",
              "    .colab-df-container {\n",
              "      display:flex;\n",
              "      flex-wrap:wrap;\n",
              "      gap: 12px;\n",
              "    }\n",
              "\n",
              "    .colab-df-convert {\n",
              "      background-color: #E8F0FE;\n",
              "      border: none;\n",
              "      border-radius: 50%;\n",
              "      cursor: pointer;\n",
              "      display: none;\n",
              "      fill: #1967D2;\n",
              "      height: 32px;\n",
              "      padding: 0 0 0 0;\n",
              "      width: 32px;\n",
              "    }\n",
              "\n",
              "    .colab-df-convert:hover {\n",
              "      background-color: #E2EBFA;\n",
              "      box-shadow: 0px 1px 2px rgba(60, 64, 67, 0.3), 0px 1px 3px 1px rgba(60, 64, 67, 0.15);\n",
              "      fill: #174EA6;\n",
              "    }\n",
              "\n",
              "    [theme=dark] .colab-df-convert {\n",
              "      background-color: #3B4455;\n",
              "      fill: #D2E3FC;\n",
              "    }\n",
              "\n",
              "    [theme=dark] .colab-df-convert:hover {\n",
              "      background-color: #434B5C;\n",
              "      box-shadow: 0px 1px 3px 1px rgba(0, 0, 0, 0.15);\n",
              "      filter: drop-shadow(0px 1px 2px rgba(0, 0, 0, 0.3));\n",
              "      fill: #FFFFFF;\n",
              "    }\n",
              "  </style>\n",
              "\n",
              "      <script>\n",
              "        const buttonEl =\n",
              "          document.querySelector('#df-486e5e30-0707-4a22-bee3-a6f5c1ca01e5 button.colab-df-convert');\n",
              "        buttonEl.style.display =\n",
              "          google.colab.kernel.accessAllowed ? 'block' : 'none';\n",
              "\n",
              "        async function convertToInteractive(key) {\n",
              "          const element = document.querySelector('#df-486e5e30-0707-4a22-bee3-a6f5c1ca01e5');\n",
              "          const dataTable =\n",
              "            await google.colab.kernel.invokeFunction('convertToInteractive',\n",
              "                                                     [key], {});\n",
              "          if (!dataTable) return;\n",
              "\n",
              "          const docLinkHtml = 'Like what you see? Visit the ' +\n",
              "            '<a target=\"_blank\" href=https://colab.research.google.com/notebooks/data_table.ipynb>data table notebook</a>'\n",
              "            + ' to learn more about interactive tables.';\n",
              "          element.innerHTML = '';\n",
              "          dataTable['output_type'] = 'display_data';\n",
              "          await google.colab.output.renderOutput(dataTable, element);\n",
              "          const docLink = document.createElement('div');\n",
              "          docLink.innerHTML = docLinkHtml;\n",
              "          element.appendChild(docLink);\n",
              "        }\n",
              "      </script>\n",
              "    </div>\n",
              "  </div>\n",
              "  "
            ]
          },
          "metadata": {},
          "execution_count": 9
        }
      ]
    },
    {
      "cell_type": "markdown",
      "source": [
        "**Cleaning Data**\n",
        "\n",
        "When doing text classification, data cleaning is an essential part, deciding the model's performance. Some stopwords such as 'the','a', etc. occur most frequently, but contain no useful information. We expect to remove these words from the corpus to reduce feature dimensions that may improve perfomance of models."
      ],
      "metadata": {
        "id": "TntnUpvW_juw"
      }
    },
    {
      "cell_type": "markdown",
      "source": [
        "**Removing stop words, numeric, and non-letter tokens**"
      ],
      "metadata": {
        "id": "DbmeM6pN_vOf"
      }
    },
    {
      "cell_type": "code",
      "source": [
        "# Downloading a stopword list in English\n",
        "!pip install stop-words\n",
        "from stop_words import get_stop_words\n",
        "stop_words = get_stop_words('en')\n",
        "\n",
        "# Removing stopwords, and numerics \n",
        "df['review'] = df['review'].apply( lambda x: ' '.join([x for x in str(x).split() if not x.isdigit() and not x.isspace() ]) )\n",
        "df['review'] = df['review'].apply( lambda x: ' '.join([x for x in str(x).split() if x not in stop_words]) )\n",
        "df['review'].head()"
      ],
      "metadata": {
        "colab": {
          "base_uri": "https://localhost:8080/"
        },
        "id": "BuvxaWOe_k3g",
        "outputId": "ac4cf8e2-44b7-4a95-8809-46ba8966870a"
      },
      "execution_count": null,
      "outputs": [
        {
          "output_type": "stream",
          "name": "stdout",
          "text": [
            "Collecting stop-words\n",
            "  Downloading stop-words-2018.7.23.tar.gz (31 kB)\n",
            "Building wheels for collected packages: stop-words\n",
            "  Building wheel for stop-words (setup.py) ... \u001b[?25l\u001b[?25hdone\n",
            "  Created wheel for stop-words: filename=stop_words-2018.7.23-py3-none-any.whl size=32911 sha256=f8e241130a1b01fb591b1423eae44e7e4d93601fc701372bac942956dac218b0\n",
            "  Stored in directory: /root/.cache/pip/wheels/fb/86/b2/277b10b1ce9f73ce15059bf6975d4547cc4ec3feeb651978e9\n",
            "Successfully built stop-words\n",
            "Installing collected packages: stop-words\n",
            "Successfully installed stop-words-2018.7.23\n"
          ]
        },
        {
          "output_type": "execute_result",
          "data": {
            "text/plain": [
              "0    bought album loved title song . 's great song ...\n",
              "1    misled thought buying entire cd contains one song\n",
              "2    introduced many ell , high school students loi...\n",
              "3    anything purchase left behind series excellent...\n",
              "4    loved movies , cant wiat third one ! funny , s...\n",
              "Name: review, dtype: object"
            ]
          },
          "metadata": {},
          "execution_count": 10
        }
      ]
    },
    {
      "cell_type": "code",
      "source": [
        "# Removing punctuations and non-letter tokens\n",
        "df['review']=df['review'].str.replace('[^\\w\\s]','')\n",
        "df['review'].head()"
      ],
      "metadata": {
        "colab": {
          "base_uri": "https://localhost:8080/"
        },
        "id": "aGg83QCG_2v3",
        "outputId": "f1a9b7cc-58cf-45d9-ab19-4bfe9b0c03da"
      },
      "execution_count": null,
      "outputs": [
        {
          "output_type": "stream",
          "name": "stderr",
          "text": [
            "/usr/local/lib/python3.7/dist-packages/ipykernel_launcher.py:2: FutureWarning: The default value of regex will change from True to False in a future version.\n",
            "  \n"
          ]
        },
        {
          "output_type": "execute_result",
          "data": {
            "text/plain": [
              "0    bought album loved title song  s great song  b...\n",
              "1    misled thought buying entire cd contains one song\n",
              "2    introduced many ell  high school students lois...\n",
              "3    anything purchase left behind series excellent...\n",
              "4    loved movies  cant wiat third one  funny  suit...\n",
              "Name: review, dtype: object"
            ]
          },
          "metadata": {},
          "execution_count": 11
        }
      ]
    },
    {
      "cell_type": "markdown",
      "source": [
        "**Developping a Naive Bayes model**\n",
        "\n",
        "We are going to implement the Naive Bayes algorithm for multinomially distributed data. The Naive Bayes make assumptions that all attributes or hereby words are independent of each other, and the word positions are unimportant."
      ],
      "metadata": {
        "id": "8cBhW84d_5R2"
      }
    },
    {
      "cell_type": "markdown",
      "source": [
        "**Splitting the data for training and testing**\n",
        "\n",
        "We will split our data into two parts: training (80%) and test set (20%). We will split our data for training and testing before transforming it into a matrix of token counts. The reason for doing that is that we want to observe the original data (the data before transformation), together with our predicted sentiments for analyzing misclassification. If we transformed before spliting data for training and testing, we will not be able to do so.\n",
        "\n",
        "We use the training set for training and validating the model by using k-fold cross validation with 5 folds. For each iteration, 4 folds will be used for training and 1 set for validating.\n",
        "\n",
        "We only use the test set for our final evaluation only; meaning that it will not participate in any training steps.By doing so, we can ensure having the most reliable evaluation result before deploying the model."
      ],
      "metadata": {
        "id": "_T2kwtzjAAeY"
      }
    },
    {
      "cell_type": "code",
      "source": [
        "# Splitting the data into training (80%) and test set(20%)\n",
        "from sklearn.model_selection import train_test_split\n",
        "X = df['review']\n",
        "y = df['label']\n",
        "X_train, X_test, y_train, y_test = train_test_split (X, y, train_size = 0.8, random_state = 42)\n",
        "print ('Shapes of X_train, y_train: ', X_train.shape, y_train.shape)\n",
        "print ('Shapes of X_test, y_test: ', X_test.shape, y_test.shape)"
      ],
      "metadata": {
        "colab": {
          "base_uri": "https://localhost:8080/"
        },
        "id": "7IWwBH8JAXT4",
        "outputId": "a3bb5495-fe64-400b-d1c9-87ea3508fba7"
      },
      "execution_count": null,
      "outputs": [
        {
          "output_type": "stream",
          "name": "stdout",
          "text": [
            "Shapes of X_train, y_train:  (9531,) (9531,)\n",
            "Shapes of X_test, y_test:  (2383,) (2383,)\n"
          ]
        }
      ]
    },
    {
      "cell_type": "markdown",
      "source": [
        "**Document representation and data tranformation**\n",
        "\n",
        "The computer is unable to read and understand text data, and features are not available in the dataset like the numeric dataset. We have to represent the text or documents into vector representation. There are a variety of methods to represent the documents such as term frequency, tf-idf, etc. Here we will count term frequency for presentating the reviews (called documents). We will tokenize each review (shown as an instance) that has been cleaned, then count the token frequency. As a result, we will have a a matrix of token counts representing the whole corpus. Features are basically single words or tokens."
      ],
      "metadata": {
        "id": "i4ucojVuAarf"
      }
    },
    {
      "cell_type": "code",
      "source": [
        "# Converting a collection of text documents to a matrix of token counts\n",
        "from sklearn.feature_extraction.text import CountVectorizer\n",
        "# Creating a vectorizer model that convert a collection of text documents to a matrix of token counts\n",
        "vectorizer = CountVectorizer(lowercase = False)"
      ],
      "metadata": {
        "id": "VWau_8WtCDS0"
      },
      "execution_count": null,
      "outputs": []
    },
    {
      "cell_type": "code",
      "source": [
        "# For training set:\n",
        "# Fitting the vectorizer model into the training set and then returning document-term matrix of that set\n",
        "X_train_tf = vectorizer.fit_transform(X_train)\n",
        "\n",
        "# Converting  sparse matrix to a dense matrix\n",
        "X_train_tf_dm = X_train_tf.toarray()\n",
        "print ('Shapes of transformed X_train, y_train: ', X_train_tf_dm.shape, y_train.shape)\n"
      ],
      "metadata": {
        "colab": {
          "base_uri": "https://localhost:8080/"
        },
        "id": "IBtrz9ZDCGH8",
        "outputId": "cd8f742b-5fe1-4617-de37-47c54d216b69"
      },
      "execution_count": null,
      "outputs": [
        {
          "output_type": "stream",
          "name": "stdout",
          "text": [
            "Shapes of transformed X_train, y_train:  (9531, 47444) (9531,)\n"
          ]
        }
      ]
    },
    {
      "cell_type": "code",
      "source": [
        "print('The number of features: ', len(vectorizer.get_feature_names()))"
      ],
      "metadata": {
        "colab": {
          "base_uri": "https://localhost:8080/"
        },
        "id": "eG15zIrICI9M",
        "outputId": "df40dc75-7bf2-4220-d18e-98d1516038aa"
      },
      "execution_count": null,
      "outputs": [
        {
          "output_type": "stream",
          "name": "stdout",
          "text": [
            "The number of features:  47444\n"
          ]
        },
        {
          "output_type": "stream",
          "name": "stderr",
          "text": [
            "/usr/local/lib/python3.7/dist-packages/sklearn/utils/deprecation.py:87: FutureWarning: Function get_feature_names is deprecated; get_feature_names is deprecated in 1.0 and will be removed in 1.2. Please use get_feature_names_out instead.\n",
            "  warnings.warn(msg, category=FutureWarning)\n"
          ]
        }
      ]
    },
    {
      "cell_type": "code",
      "source": [
        "# Transforming the test set and returning document-term matrix of that set\n",
        "X_test_tf = vectorizer.transform(X_test)\n",
        "\n",
        "# Converting  sparse matrix to a dense matrix\n",
        "X_test_tf_dm = X_test_tf.toarray()\n",
        "print ('Shapes of transformed X_train, y_train: ', X_train_tf_dm.shape, y_train.shape)\n"
      ],
      "metadata": {
        "colab": {
          "base_uri": "https://localhost:8080/"
        },
        "id": "nnkoaSw0CPFE",
        "outputId": "2823f841-47c8-4fcb-bd62-19c7207d8885"
      },
      "execution_count": null,
      "outputs": [
        {
          "output_type": "stream",
          "name": "stdout",
          "text": [
            "Shapes of transformed X_train, y_train:  (9531, 47444) (9531,)\n"
          ]
        }
      ]
    },
    {
      "cell_type": "markdown",
      "source": [
        "We have 47,444 features. The number of features we have is actually the size of our vocabulary size because we did not limit the maximum number of features."
      ],
      "metadata": {
        "id": "Ee5uV3KBCVs1"
      }
    },
    {
      "cell_type": "code",
      "source": [
        "# Observing the documment term-matrix of the trainingset\n",
        "pd.DataFrame(X_train_tf_dm, columns = vectorizer.get_feature_names())"
      ],
      "metadata": {
        "colab": {
          "base_uri": "https://localhost:8080/",
          "height": 478
        },
        "id": "3mtbI9rlCdSr",
        "outputId": "9e0da14a-4a95-42de-aef7-6c9cdac3aa02"
      },
      "execution_count": null,
      "outputs": [
        {
          "output_type": "stream",
          "name": "stderr",
          "text": [
            "/usr/local/lib/python3.7/dist-packages/sklearn/utils/deprecation.py:87: FutureWarning: Function get_feature_names is deprecated; get_feature_names is deprecated in 1.0 and will be removed in 1.2. Please use get_feature_names_out instead.\n",
            "  warnings.warn(msg, category=FutureWarning)\n"
          ]
        },
        {
          "output_type": "execute_result",
          "data": {
            "text/plain": [
              "      00  000  00000  000feet  000mb  000page  000steps  01  010  02071982  \\\n",
              "0      0    0      0        0      0        0         0   0    0         0   \n",
              "1      0    0      0        0      0        0         0   0    0         0   \n",
              "2      0    0      0        0      0        0         0   0    0         0   \n",
              "3      0    0      0        0      0        0         0   0    0         0   \n",
              "4      0    0      0        0      0        0         0   0    0         0   \n",
              "...   ..  ...    ...      ...    ...      ...       ...  ..  ...       ...   \n",
              "9526   0    0      0        0      0        0         0   0    0         0   \n",
              "9527   0    0      0        0      0        0         0   0    0         0   \n",
              "9528   0    0      0        0      0        0         0   0    0         0   \n",
              "9529   0    0      0        0      0        0         0   0    0         0   \n",
              "9530   0    0      0        0      0        0         0   0    0         0   \n",
              "\n",
              "      ...  zzzzz  àvis  ça  énnui  ï½50  ï½bersoldier  ï½bersoldiers  \\\n",
              "0     ...      0     0   0      0     0             0              0   \n",
              "1     ...      0     0   0      0     0             0              0   \n",
              "2     ...      0     0   0      0     0             0              0   \n",
              "3     ...      0     0   0      0     0             0              0   \n",
              "4     ...      0     0   0      0     0             0              0   \n",
              "...   ...    ...   ...  ..    ...   ...           ...            ...   \n",
              "9526  ...      0     0   0      0     0             0              0   \n",
              "9527  ...      0     0   0      0     0             0              0   \n",
              "9528  ...      0     0   0      0     0             0              0   \n",
              "9529  ...      0     0   0      0     0             0              0   \n",
              "9530  ...      0     0   0      0     0             0              0   \n",
              "\n",
              "      ï½kerlund  ï½vis  único  \n",
              "0             0      0      0  \n",
              "1             0      0      0  \n",
              "2             0      0      0  \n",
              "3             0      0      0  \n",
              "4             0      0      0  \n",
              "...         ...    ...    ...  \n",
              "9526          0      0      0  \n",
              "9527          0      0      0  \n",
              "9528          0      0      0  \n",
              "9529          0      0      0  \n",
              "9530          0      0      0  \n",
              "\n",
              "[9531 rows x 47444 columns]"
            ],
            "text/html": [
              "\n",
              "  <div id=\"df-90f22131-a375-4da6-9290-3c360212e158\">\n",
              "    <div class=\"colab-df-container\">\n",
              "      <div>\n",
              "<style scoped>\n",
              "    .dataframe tbody tr th:only-of-type {\n",
              "        vertical-align: middle;\n",
              "    }\n",
              "\n",
              "    .dataframe tbody tr th {\n",
              "        vertical-align: top;\n",
              "    }\n",
              "\n",
              "    .dataframe thead th {\n",
              "        text-align: right;\n",
              "    }\n",
              "</style>\n",
              "<table border=\"1\" class=\"dataframe\">\n",
              "  <thead>\n",
              "    <tr style=\"text-align: right;\">\n",
              "      <th></th>\n",
              "      <th>00</th>\n",
              "      <th>000</th>\n",
              "      <th>00000</th>\n",
              "      <th>000feet</th>\n",
              "      <th>000mb</th>\n",
              "      <th>000page</th>\n",
              "      <th>000steps</th>\n",
              "      <th>01</th>\n",
              "      <th>010</th>\n",
              "      <th>02071982</th>\n",
              "      <th>...</th>\n",
              "      <th>zzzzz</th>\n",
              "      <th>àvis</th>\n",
              "      <th>ça</th>\n",
              "      <th>énnui</th>\n",
              "      <th>ï½50</th>\n",
              "      <th>ï½bersoldier</th>\n",
              "      <th>ï½bersoldiers</th>\n",
              "      <th>ï½kerlund</th>\n",
              "      <th>ï½vis</th>\n",
              "      <th>único</th>\n",
              "    </tr>\n",
              "  </thead>\n",
              "  <tbody>\n",
              "    <tr>\n",
              "      <th>0</th>\n",
              "      <td>0</td>\n",
              "      <td>0</td>\n",
              "      <td>0</td>\n",
              "      <td>0</td>\n",
              "      <td>0</td>\n",
              "      <td>0</td>\n",
              "      <td>0</td>\n",
              "      <td>0</td>\n",
              "      <td>0</td>\n",
              "      <td>0</td>\n",
              "      <td>...</td>\n",
              "      <td>0</td>\n",
              "      <td>0</td>\n",
              "      <td>0</td>\n",
              "      <td>0</td>\n",
              "      <td>0</td>\n",
              "      <td>0</td>\n",
              "      <td>0</td>\n",
              "      <td>0</td>\n",
              "      <td>0</td>\n",
              "      <td>0</td>\n",
              "    </tr>\n",
              "    <tr>\n",
              "      <th>1</th>\n",
              "      <td>0</td>\n",
              "      <td>0</td>\n",
              "      <td>0</td>\n",
              "      <td>0</td>\n",
              "      <td>0</td>\n",
              "      <td>0</td>\n",
              "      <td>0</td>\n",
              "      <td>0</td>\n",
              "      <td>0</td>\n",
              "      <td>0</td>\n",
              "      <td>...</td>\n",
              "      <td>0</td>\n",
              "      <td>0</td>\n",
              "      <td>0</td>\n",
              "      <td>0</td>\n",
              "      <td>0</td>\n",
              "      <td>0</td>\n",
              "      <td>0</td>\n",
              "      <td>0</td>\n",
              "      <td>0</td>\n",
              "      <td>0</td>\n",
              "    </tr>\n",
              "    <tr>\n",
              "      <th>2</th>\n",
              "      <td>0</td>\n",
              "      <td>0</td>\n",
              "      <td>0</td>\n",
              "      <td>0</td>\n",
              "      <td>0</td>\n",
              "      <td>0</td>\n",
              "      <td>0</td>\n",
              "      <td>0</td>\n",
              "      <td>0</td>\n",
              "      <td>0</td>\n",
              "      <td>...</td>\n",
              "      <td>0</td>\n",
              "      <td>0</td>\n",
              "      <td>0</td>\n",
              "      <td>0</td>\n",
              "      <td>0</td>\n",
              "      <td>0</td>\n",
              "      <td>0</td>\n",
              "      <td>0</td>\n",
              "      <td>0</td>\n",
              "      <td>0</td>\n",
              "    </tr>\n",
              "    <tr>\n",
              "      <th>3</th>\n",
              "      <td>0</td>\n",
              "      <td>0</td>\n",
              "      <td>0</td>\n",
              "      <td>0</td>\n",
              "      <td>0</td>\n",
              "      <td>0</td>\n",
              "      <td>0</td>\n",
              "      <td>0</td>\n",
              "      <td>0</td>\n",
              "      <td>0</td>\n",
              "      <td>...</td>\n",
              "      <td>0</td>\n",
              "      <td>0</td>\n",
              "      <td>0</td>\n",
              "      <td>0</td>\n",
              "      <td>0</td>\n",
              "      <td>0</td>\n",
              "      <td>0</td>\n",
              "      <td>0</td>\n",
              "      <td>0</td>\n",
              "      <td>0</td>\n",
              "    </tr>\n",
              "    <tr>\n",
              "      <th>4</th>\n",
              "      <td>0</td>\n",
              "      <td>0</td>\n",
              "      <td>0</td>\n",
              "      <td>0</td>\n",
              "      <td>0</td>\n",
              "      <td>0</td>\n",
              "      <td>0</td>\n",
              "      <td>0</td>\n",
              "      <td>0</td>\n",
              "      <td>0</td>\n",
              "      <td>...</td>\n",
              "      <td>0</td>\n",
              "      <td>0</td>\n",
              "      <td>0</td>\n",
              "      <td>0</td>\n",
              "      <td>0</td>\n",
              "      <td>0</td>\n",
              "      <td>0</td>\n",
              "      <td>0</td>\n",
              "      <td>0</td>\n",
              "      <td>0</td>\n",
              "    </tr>\n",
              "    <tr>\n",
              "      <th>...</th>\n",
              "      <td>...</td>\n",
              "      <td>...</td>\n",
              "      <td>...</td>\n",
              "      <td>...</td>\n",
              "      <td>...</td>\n",
              "      <td>...</td>\n",
              "      <td>...</td>\n",
              "      <td>...</td>\n",
              "      <td>...</td>\n",
              "      <td>...</td>\n",
              "      <td>...</td>\n",
              "      <td>...</td>\n",
              "      <td>...</td>\n",
              "      <td>...</td>\n",
              "      <td>...</td>\n",
              "      <td>...</td>\n",
              "      <td>...</td>\n",
              "      <td>...</td>\n",
              "      <td>...</td>\n",
              "      <td>...</td>\n",
              "      <td>...</td>\n",
              "    </tr>\n",
              "    <tr>\n",
              "      <th>9526</th>\n",
              "      <td>0</td>\n",
              "      <td>0</td>\n",
              "      <td>0</td>\n",
              "      <td>0</td>\n",
              "      <td>0</td>\n",
              "      <td>0</td>\n",
              "      <td>0</td>\n",
              "      <td>0</td>\n",
              "      <td>0</td>\n",
              "      <td>0</td>\n",
              "      <td>...</td>\n",
              "      <td>0</td>\n",
              "      <td>0</td>\n",
              "      <td>0</td>\n",
              "      <td>0</td>\n",
              "      <td>0</td>\n",
              "      <td>0</td>\n",
              "      <td>0</td>\n",
              "      <td>0</td>\n",
              "      <td>0</td>\n",
              "      <td>0</td>\n",
              "    </tr>\n",
              "    <tr>\n",
              "      <th>9527</th>\n",
              "      <td>0</td>\n",
              "      <td>0</td>\n",
              "      <td>0</td>\n",
              "      <td>0</td>\n",
              "      <td>0</td>\n",
              "      <td>0</td>\n",
              "      <td>0</td>\n",
              "      <td>0</td>\n",
              "      <td>0</td>\n",
              "      <td>0</td>\n",
              "      <td>...</td>\n",
              "      <td>0</td>\n",
              "      <td>0</td>\n",
              "      <td>0</td>\n",
              "      <td>0</td>\n",
              "      <td>0</td>\n",
              "      <td>0</td>\n",
              "      <td>0</td>\n",
              "      <td>0</td>\n",
              "      <td>0</td>\n",
              "      <td>0</td>\n",
              "    </tr>\n",
              "    <tr>\n",
              "      <th>9528</th>\n",
              "      <td>0</td>\n",
              "      <td>0</td>\n",
              "      <td>0</td>\n",
              "      <td>0</td>\n",
              "      <td>0</td>\n",
              "      <td>0</td>\n",
              "      <td>0</td>\n",
              "      <td>0</td>\n",
              "      <td>0</td>\n",
              "      <td>0</td>\n",
              "      <td>...</td>\n",
              "      <td>0</td>\n",
              "      <td>0</td>\n",
              "      <td>0</td>\n",
              "      <td>0</td>\n",
              "      <td>0</td>\n",
              "      <td>0</td>\n",
              "      <td>0</td>\n",
              "      <td>0</td>\n",
              "      <td>0</td>\n",
              "      <td>0</td>\n",
              "    </tr>\n",
              "    <tr>\n",
              "      <th>9529</th>\n",
              "      <td>0</td>\n",
              "      <td>0</td>\n",
              "      <td>0</td>\n",
              "      <td>0</td>\n",
              "      <td>0</td>\n",
              "      <td>0</td>\n",
              "      <td>0</td>\n",
              "      <td>0</td>\n",
              "      <td>0</td>\n",
              "      <td>0</td>\n",
              "      <td>...</td>\n",
              "      <td>0</td>\n",
              "      <td>0</td>\n",
              "      <td>0</td>\n",
              "      <td>0</td>\n",
              "      <td>0</td>\n",
              "      <td>0</td>\n",
              "      <td>0</td>\n",
              "      <td>0</td>\n",
              "      <td>0</td>\n",
              "      <td>0</td>\n",
              "    </tr>\n",
              "    <tr>\n",
              "      <th>9530</th>\n",
              "      <td>0</td>\n",
              "      <td>0</td>\n",
              "      <td>0</td>\n",
              "      <td>0</td>\n",
              "      <td>0</td>\n",
              "      <td>0</td>\n",
              "      <td>0</td>\n",
              "      <td>0</td>\n",
              "      <td>0</td>\n",
              "      <td>0</td>\n",
              "      <td>...</td>\n",
              "      <td>0</td>\n",
              "      <td>0</td>\n",
              "      <td>0</td>\n",
              "      <td>0</td>\n",
              "      <td>0</td>\n",
              "      <td>0</td>\n",
              "      <td>0</td>\n",
              "      <td>0</td>\n",
              "      <td>0</td>\n",
              "      <td>0</td>\n",
              "    </tr>\n",
              "  </tbody>\n",
              "</table>\n",
              "<p>9531 rows × 47444 columns</p>\n",
              "</div>\n",
              "      <button class=\"colab-df-convert\" onclick=\"convertToInteractive('df-90f22131-a375-4da6-9290-3c360212e158')\"\n",
              "              title=\"Convert this dataframe to an interactive table.\"\n",
              "              style=\"display:none;\">\n",
              "        \n",
              "  <svg xmlns=\"http://www.w3.org/2000/svg\" height=\"24px\"viewBox=\"0 0 24 24\"\n",
              "       width=\"24px\">\n",
              "    <path d=\"M0 0h24v24H0V0z\" fill=\"none\"/>\n",
              "    <path d=\"M18.56 5.44l.94 2.06.94-2.06 2.06-.94-2.06-.94-.94-2.06-.94 2.06-2.06.94zm-11 1L8.5 8.5l.94-2.06 2.06-.94-2.06-.94L8.5 2.5l-.94 2.06-2.06.94zm10 10l.94 2.06.94-2.06 2.06-.94-2.06-.94-.94-2.06-.94 2.06-2.06.94z\"/><path d=\"M17.41 7.96l-1.37-1.37c-.4-.4-.92-.59-1.43-.59-.52 0-1.04.2-1.43.59L10.3 9.45l-7.72 7.72c-.78.78-.78 2.05 0 2.83L4 21.41c.39.39.9.59 1.41.59.51 0 1.02-.2 1.41-.59l7.78-7.78 2.81-2.81c.8-.78.8-2.07 0-2.86zM5.41 20L4 18.59l7.72-7.72 1.47 1.35L5.41 20z\"/>\n",
              "  </svg>\n",
              "      </button>\n",
              "      \n",
              "  <style>\n",
              "    .colab-df-container {\n",
              "      display:flex;\n",
              "      flex-wrap:wrap;\n",
              "      gap: 12px;\n",
              "    }\n",
              "\n",
              "    .colab-df-convert {\n",
              "      background-color: #E8F0FE;\n",
              "      border: none;\n",
              "      border-radius: 50%;\n",
              "      cursor: pointer;\n",
              "      display: none;\n",
              "      fill: #1967D2;\n",
              "      height: 32px;\n",
              "      padding: 0 0 0 0;\n",
              "      width: 32px;\n",
              "    }\n",
              "\n",
              "    .colab-df-convert:hover {\n",
              "      background-color: #E2EBFA;\n",
              "      box-shadow: 0px 1px 2px rgba(60, 64, 67, 0.3), 0px 1px 3px 1px rgba(60, 64, 67, 0.15);\n",
              "      fill: #174EA6;\n",
              "    }\n",
              "\n",
              "    [theme=dark] .colab-df-convert {\n",
              "      background-color: #3B4455;\n",
              "      fill: #D2E3FC;\n",
              "    }\n",
              "\n",
              "    [theme=dark] .colab-df-convert:hover {\n",
              "      background-color: #434B5C;\n",
              "      box-shadow: 0px 1px 3px 1px rgba(0, 0, 0, 0.15);\n",
              "      filter: drop-shadow(0px 1px 2px rgba(0, 0, 0, 0.3));\n",
              "      fill: #FFFFFF;\n",
              "    }\n",
              "  </style>\n",
              "\n",
              "      <script>\n",
              "        const buttonEl =\n",
              "          document.querySelector('#df-90f22131-a375-4da6-9290-3c360212e158 button.colab-df-convert');\n",
              "        buttonEl.style.display =\n",
              "          google.colab.kernel.accessAllowed ? 'block' : 'none';\n",
              "\n",
              "        async function convertToInteractive(key) {\n",
              "          const element = document.querySelector('#df-90f22131-a375-4da6-9290-3c360212e158');\n",
              "          const dataTable =\n",
              "            await google.colab.kernel.invokeFunction('convertToInteractive',\n",
              "                                                     [key], {});\n",
              "          if (!dataTable) return;\n",
              "\n",
              "          const docLinkHtml = 'Like what you see? Visit the ' +\n",
              "            '<a target=\"_blank\" href=https://colab.research.google.com/notebooks/data_table.ipynb>data table notebook</a>'\n",
              "            + ' to learn more about interactive tables.';\n",
              "          element.innerHTML = '';\n",
              "          dataTable['output_type'] = 'display_data';\n",
              "          await google.colab.output.renderOutput(dataTable, element);\n",
              "          const docLink = document.createElement('div');\n",
              "          docLink.innerHTML = docLinkHtml;\n",
              "          element.appendChild(docLink);\n",
              "        }\n",
              "      </script>\n",
              "    </div>\n",
              "  </div>\n",
              "  "
            ]
          },
          "metadata": {},
          "execution_count": 17
        }
      ]
    },
    {
      "cell_type": "markdown",
      "source": [
        "Training Model"
      ],
      "metadata": {
        "id": "Dg7-seP0CjQu"
      }
    },
    {
      "cell_type": "code",
      "source": [
        "# Creating a naive bayes models for text classification\n",
        "from sklearn.naive_bayes import MultinomialNB\n",
        "mnb = MultinomialNB()\n",
        "\n",
        "# Fitting the model into the training set for learning\n",
        "mnb.fit(X_train_tf_dm, y_train)"
      ],
      "metadata": {
        "colab": {
          "base_uri": "https://localhost:8080/"
        },
        "id": "y_GPOJCcClFr",
        "outputId": "bc2761d1-905d-485c-b23f-c5a860084d8d"
      },
      "execution_count": null,
      "outputs": [
        {
          "output_type": "execute_result",
          "data": {
            "text/plain": [
              "MultinomialNB()"
            ]
          },
          "metadata": {},
          "execution_count": 18
        }
      ]
    },
    {
      "cell_type": "code",
      "source": [
        "# Training and validating the model using k-fold cross validation\n",
        "from sklearn.model_selection import cross_validate\n",
        "cv = cross_validate (mnb, X_train_tf_dm, y_train, cv = 5)\n",
        "print(\"accuracy score of 5-fold cross validation:\\n\", cv['test_score'])\n",
        "print(\"cross validation accuracy mean score: \\n\", cv['test_score'].mean())\n"
      ],
      "metadata": {
        "colab": {
          "base_uri": "https://localhost:8080/"
        },
        "id": "bZM7lfBPCoQE",
        "outputId": "a66fcd62-f902-4806-ca84-d3d668be8b0a"
      },
      "execution_count": null,
      "outputs": [
        {
          "output_type": "stream",
          "name": "stdout",
          "text": [
            "accuracy score of 5-fold cross validation:\n",
            " [0.81331935 0.80167891 0.77964323 0.795383   0.795383  ]\n",
            "cross validation accuracy mean score: \n",
            " 0.7970814984942536\n"
          ]
        }
      ]
    },
    {
      "cell_type": "markdown",
      "source": [
        "By using the k-fold cross validation, we got a generalized estimated accuracy score of the model of around 80% This score is not high, but acceptable for the text classification."
      ],
      "metadata": {
        "id": "vMqCuY2CCqx7"
      }
    },
    {
      "cell_type": "markdown",
      "source": [
        "Making Prediction "
      ],
      "metadata": {
        "id": "0lVX3n37DYFc"
      }
    },
    {
      "cell_type": "code",
      "source": [
        "# Applying the learned model to make prediction on the test set\n",
        "y_pred = mnb.predict(X_test_tf_dm)"
      ],
      "metadata": {
        "id": "Yzam7ArtDZ5q"
      },
      "execution_count": null,
      "outputs": []
    },
    {
      "cell_type": "code",
      "source": [
        "# Analyzing misclassified reviews\n",
        "pd.set_option('display.max_colwidth', None)\n",
        "test_df = pd.DataFrame(zip(X_test, y_test, y_pred), columns = ['X_test','y_test', 'y_pred'])\n",
        "test_df[test_df['y_test'] != test_df['y_pred'] ][:5]"
      ],
      "metadata": {
        "colab": {
          "base_uri": "https://localhost:8080/",
          "height": 320
        },
        "id": "6Q0sYZRQFhn_",
        "outputId": "a565f225-9b6a-4a7d-c88e-889315e3c81b"
      },
      "execution_count": null,
      "outputs": [
        {
          "output_type": "execute_result",
          "data": {
            "text/plain": [
              "                                                                                                                                                                                                                                                                                                                                                                                                                                                                                                                                                                                  X_test  \\\n",
              "5   buy cable amazon wo nt sorry  looked internet sometimes hard find good company online buy manufacture sold cables  friend told amazon  typed cable number amazon stock  decided order hope best well sure enough cable arrived time just like amazon said  know great working usb cable digital camera  order three since friends family always ask borrow mine fact need replacement  money buy five  fact  family  friends always misplacing cables losing  order cable amazon  nice know lose cables can buy  ever since bought cables making sure know put em  happy buy worries   \n",
              "11                                                                                                                                                                 wipes great  three children used pampers  huggies  housebrand wipes  huggies thick seems need get job done  housebrand nt smell good tend bit rough  pampers thin  soft  moist enough get job donebecause thin  can maneuvered around important places folded  refolded 100 useage  unlike huggies folded become thick maneuver   definitely dry reviewers said  want something moister  go get paper towel wet water   \n",
              "17                                                                                                                                                                                                                                                                                                                                                                         hesitant spend much money shaver glad  one gives really good shave  one month used hand razor since  another review says cleaning process bit loud  since turn leave  just close bathroom door noise problem    \n",
              "18                                                                                                                                                                                                                                                                      loved first one think  logic plot first one  follows  knew changed world  sequel see  actors good  since lead characters suppose  let s say less intelligent  nice  think movie 1st one classics  like grim reaper  atitude movie  fact comic relief  okay movie comic relief  even fun watch laugh  worth watch   \n",
              "31                                                                                                                                                                                                                                                                                                                                                      stuff rap dreams made  just like movie  cd packed moment moment perpetual rollercoaster type thrills leaves listener sheer state funk frenzy  talent assmbled tops just seems keep coming  get  sit  buckle shut fk s get rowdy    \n",
              "\n",
              "    y_test  y_pred  \n",
              "5        1       0  \n",
              "11       1       0  \n",
              "17       1       0  \n",
              "18       1       0  \n",
              "31       1       0  "
            ],
            "text/html": [
              "\n",
              "  <div id=\"df-07f5e969-52cb-472c-b1f7-44a16ba99f8c\">\n",
              "    <div class=\"colab-df-container\">\n",
              "      <div>\n",
              "<style scoped>\n",
              "    .dataframe tbody tr th:only-of-type {\n",
              "        vertical-align: middle;\n",
              "    }\n",
              "\n",
              "    .dataframe tbody tr th {\n",
              "        vertical-align: top;\n",
              "    }\n",
              "\n",
              "    .dataframe thead th {\n",
              "        text-align: right;\n",
              "    }\n",
              "</style>\n",
              "<table border=\"1\" class=\"dataframe\">\n",
              "  <thead>\n",
              "    <tr style=\"text-align: right;\">\n",
              "      <th></th>\n",
              "      <th>X_test</th>\n",
              "      <th>y_test</th>\n",
              "      <th>y_pred</th>\n",
              "    </tr>\n",
              "  </thead>\n",
              "  <tbody>\n",
              "    <tr>\n",
              "      <th>5</th>\n",
              "      <td>buy cable amazon wo nt sorry  looked internet sometimes hard find good company online buy manufacture sold cables  friend told amazon  typed cable number amazon stock  decided order hope best well sure enough cable arrived time just like amazon said  know great working usb cable digital camera  order three since friends family always ask borrow mine fact need replacement  money buy five  fact  family  friends always misplacing cables losing  order cable amazon  nice know lose cables can buy  ever since bought cables making sure know put em  happy buy worries</td>\n",
              "      <td>1</td>\n",
              "      <td>0</td>\n",
              "    </tr>\n",
              "    <tr>\n",
              "      <th>11</th>\n",
              "      <td>wipes great  three children used pampers  huggies  housebrand wipes  huggies thick seems need get job done  housebrand nt smell good tend bit rough  pampers thin  soft  moist enough get job donebecause thin  can maneuvered around important places folded  refolded 100 useage  unlike huggies folded become thick maneuver   definitely dry reviewers said  want something moister  go get paper towel wet water</td>\n",
              "      <td>1</td>\n",
              "      <td>0</td>\n",
              "    </tr>\n",
              "    <tr>\n",
              "      <th>17</th>\n",
              "      <td>hesitant spend much money shaver glad  one gives really good shave  one month used hand razor since  another review says cleaning process bit loud  since turn leave  just close bathroom door noise problem</td>\n",
              "      <td>1</td>\n",
              "      <td>0</td>\n",
              "    </tr>\n",
              "    <tr>\n",
              "      <th>18</th>\n",
              "      <td>loved first one think  logic plot first one  follows  knew changed world  sequel see  actors good  since lead characters suppose  let s say less intelligent  nice  think movie 1st one classics  like grim reaper  atitude movie  fact comic relief  okay movie comic relief  even fun watch laugh  worth watch</td>\n",
              "      <td>1</td>\n",
              "      <td>0</td>\n",
              "    </tr>\n",
              "    <tr>\n",
              "      <th>31</th>\n",
              "      <td>stuff rap dreams made  just like movie  cd packed moment moment perpetual rollercoaster type thrills leaves listener sheer state funk frenzy  talent assmbled tops just seems keep coming  get  sit  buckle shut fk s get rowdy</td>\n",
              "      <td>1</td>\n",
              "      <td>0</td>\n",
              "    </tr>\n",
              "  </tbody>\n",
              "</table>\n",
              "</div>\n",
              "      <button class=\"colab-df-convert\" onclick=\"convertToInteractive('df-07f5e969-52cb-472c-b1f7-44a16ba99f8c')\"\n",
              "              title=\"Convert this dataframe to an interactive table.\"\n",
              "              style=\"display:none;\">\n",
              "        \n",
              "  <svg xmlns=\"http://www.w3.org/2000/svg\" height=\"24px\"viewBox=\"0 0 24 24\"\n",
              "       width=\"24px\">\n",
              "    <path d=\"M0 0h24v24H0V0z\" fill=\"none\"/>\n",
              "    <path d=\"M18.56 5.44l.94 2.06.94-2.06 2.06-.94-2.06-.94-.94-2.06-.94 2.06-2.06.94zm-11 1L8.5 8.5l.94-2.06 2.06-.94-2.06-.94L8.5 2.5l-.94 2.06-2.06.94zm10 10l.94 2.06.94-2.06 2.06-.94-2.06-.94-.94-2.06-.94 2.06-2.06.94z\"/><path d=\"M17.41 7.96l-1.37-1.37c-.4-.4-.92-.59-1.43-.59-.52 0-1.04.2-1.43.59L10.3 9.45l-7.72 7.72c-.78.78-.78 2.05 0 2.83L4 21.41c.39.39.9.59 1.41.59.51 0 1.02-.2 1.41-.59l7.78-7.78 2.81-2.81c.8-.78.8-2.07 0-2.86zM5.41 20L4 18.59l7.72-7.72 1.47 1.35L5.41 20z\"/>\n",
              "  </svg>\n",
              "      </button>\n",
              "      \n",
              "  <style>\n",
              "    .colab-df-container {\n",
              "      display:flex;\n",
              "      flex-wrap:wrap;\n",
              "      gap: 12px;\n",
              "    }\n",
              "\n",
              "    .colab-df-convert {\n",
              "      background-color: #E8F0FE;\n",
              "      border: none;\n",
              "      border-radius: 50%;\n",
              "      cursor: pointer;\n",
              "      display: none;\n",
              "      fill: #1967D2;\n",
              "      height: 32px;\n",
              "      padding: 0 0 0 0;\n",
              "      width: 32px;\n",
              "    }\n",
              "\n",
              "    .colab-df-convert:hover {\n",
              "      background-color: #E2EBFA;\n",
              "      box-shadow: 0px 1px 2px rgba(60, 64, 67, 0.3), 0px 1px 3px 1px rgba(60, 64, 67, 0.15);\n",
              "      fill: #174EA6;\n",
              "    }\n",
              "\n",
              "    [theme=dark] .colab-df-convert {\n",
              "      background-color: #3B4455;\n",
              "      fill: #D2E3FC;\n",
              "    }\n",
              "\n",
              "    [theme=dark] .colab-df-convert:hover {\n",
              "      background-color: #434B5C;\n",
              "      box-shadow: 0px 1px 3px 1px rgba(0, 0, 0, 0.15);\n",
              "      filter: drop-shadow(0px 1px 2px rgba(0, 0, 0, 0.3));\n",
              "      fill: #FFFFFF;\n",
              "    }\n",
              "  </style>\n",
              "\n",
              "      <script>\n",
              "        const buttonEl =\n",
              "          document.querySelector('#df-07f5e969-52cb-472c-b1f7-44a16ba99f8c button.colab-df-convert');\n",
              "        buttonEl.style.display =\n",
              "          google.colab.kernel.accessAllowed ? 'block' : 'none';\n",
              "\n",
              "        async function convertToInteractive(key) {\n",
              "          const element = document.querySelector('#df-07f5e969-52cb-472c-b1f7-44a16ba99f8c');\n",
              "          const dataTable =\n",
              "            await google.colab.kernel.invokeFunction('convertToInteractive',\n",
              "                                                     [key], {});\n",
              "          if (!dataTable) return;\n",
              "\n",
              "          const docLinkHtml = 'Like what you see? Visit the ' +\n",
              "            '<a target=\"_blank\" href=https://colab.research.google.com/notebooks/data_table.ipynb>data table notebook</a>'\n",
              "            + ' to learn more about interactive tables.';\n",
              "          element.innerHTML = '';\n",
              "          dataTable['output_type'] = 'display_data';\n",
              "          await google.colab.output.renderOutput(dataTable, element);\n",
              "          const docLink = document.createElement('div');\n",
              "          docLink.innerHTML = docLinkHtml;\n",
              "          element.appendChild(docLink);\n",
              "        }\n",
              "      </script>\n",
              "    </div>\n",
              "  </div>\n",
              "  "
            ]
          },
          "metadata": {},
          "execution_count": 21
        }
      ]
    },
    {
      "cell_type": "markdown",
      "source": [
        "We will evaluate the model performance on the test set. We aim to evaluate the model performance with three popular evaluation methods: Accuracy Score, confusion matrix, and ROC Curve.\n",
        "\n"
      ],
      "metadata": {
        "id": "yhg8uw_PFvAw"
      }
    },
    {
      "cell_type": "code",
      "source": [
        "# Evaluating the model on the test set\n",
        "print('Accuracy of the selected model in the test set: {:.4f}'.format(mnb.score(X_test_tf_dm, y_test)))"
      ],
      "metadata": {
        "colab": {
          "base_uri": "https://localhost:8080/"
        },
        "id": "XIpNYrowFxoO",
        "outputId": "2418ce63-cba8-4d12-e299-52c33b514f44"
      },
      "execution_count": null,
      "outputs": [
        {
          "output_type": "stream",
          "name": "stdout",
          "text": [
            "Accuracy of the selected model in the test set: 0.8225\n"
          ]
        }
      ]
    },
    {
      "cell_type": "code",
      "source": [
        "# Evaluating with the confusion matrix\n",
        "from sklearn.metrics import confusion_matrix\n",
        "conf_matrix = confusion_matrix(y_test, y_pred)\n",
        "# Visualizing the confusion matrix\n",
        "sns.heatmap(conf_matrix, annot = True, fmt = '.0f',cmap='YlGnBu')\n",
        "plt.xlabel ('predicted values')\n",
        "plt.ylabel ('actual values')"
      ],
      "metadata": {
        "colab": {
          "base_uri": "https://localhost:8080/",
          "height": 297
        },
        "id": "tlGkYmDbF2XX",
        "outputId": "1686e31c-e2ce-4b8c-8ce9-15d8a5f493bf"
      },
      "execution_count": null,
      "outputs": [
        {
          "output_type": "execute_result",
          "data": {
            "text/plain": [
              "Text(33.0, 0.5, 'actual values')"
            ]
          },
          "metadata": {},
          "execution_count": 23
        },
        {
          "output_type": "display_data",
          "data": {
            "text/plain": [
              "<Figure size 432x288 with 2 Axes>"
            ],
            "image/png": "[encoded data removed]"
          },
          "metadata": {
            "needs_background": "light"
          }
        }
      ]
    },
    {
      "cell_type": "markdown",
      "source": [
        "Looking at the confusion matrix, we can see the model correctly predicted 1013 reviews as True Positives, and 947 True Negatives. However, the model incorrectly predict 227 Negative reviews as positive. Likewise, 196 positive reviews were incorrectly predicted as negatives."
      ],
      "metadata": {
        "id": "BqIQcP_gGGgH"
      }
    },
    {
      "cell_type": "markdown",
      "source": [
        "**With the ROC Curve**\n",
        "\n",
        "The Receiver Operating Characteristic (ROC) Curve was created by plotting the true positive rate (TPR) against the false positive rate (FPR). The ROC Curve is a probability curve, telling us how much the model is able to distinguish between classes, shown by the area under the curve (AUC). Higher the AUC is, the better the model performs. The AUC is expected to greater than 0.5, or over left-top part compared to the baseline."
      ],
      "metadata": {
        "id": "8KOnEATuGrp3"
      }
    },
    {
      "cell_type": "code",
      "source": [
        "# Evaluating with the ROC curve\n",
        "from sklearn.metrics import roc_curve, roc_auc_score\n",
        "# Taking only the probability of the positive review (class 1) on the test set\n",
        "y_pred_prob_c1  = mnb.predict_proba (X_test_tf_dm)[:,1]\n",
        "\n",
        "# Getting True Positive Rate (tpr) and False Positive Rate (fpr)\n",
        "fpr, tpr, threshold = roc_curve (y_test, y_pred_prob_c1, pos_label = 1)\n",
        "\n",
        "# Computing the area under the ROC Curve (roc_auc)\n",
        "roc_auc_score = roc_auc_score (y_test, y_pred_prob_c1)\n",
        "print('The ROC AUC: ', roc_auc_score) \n",
        "\n",
        "# Visualizing the ROC Curve\n",
        "plt.plot (fpr, tpr)\n",
        "plt.plot([0,1], '--')\n",
        "plt.xlabel ('False Positive Rate')\n",
        "plt.ylabel('True Positive Rate')\n",
        "plt.title (\"ROC Curve (AUC = {:.3f})\".format(roc_auc_score))\n",
        "plt.grid()\n",
        "plt.show()"
      ],
      "metadata": {
        "colab": {
          "base_uri": "https://localhost:8080/",
          "height": 312
        },
        "id": "9OJGs4CPGyVW",
        "outputId": "fdd0673e-b83a-456d-8735-0d60c6c6b004"
      },
      "execution_count": null,
      "outputs": [
        {
          "output_type": "stream",
          "name": "stdout",
          "text": [
            "The ROC AUC:  0.8845287262059257\n"
          ]
        },
        {
          "output_type": "display_data",
          "data": {
            "text/plain": [
              "<Figure size 432x288 with 1 Axes>"
            ],
            "image/png": "[encoded data removed]"
          },
          "metadata": {
            "needs_background": "light"
          }
        }
      ]
    },
    {
      "cell_type": "markdown",
      "source": [
        "The AUC above indicates that our model can distinguish the two classes (positive (1) and negative (0)) pretty well."
      ],
      "metadata": {
        "id": "q5BBPepsG4He"
      }
    }
  ]
}